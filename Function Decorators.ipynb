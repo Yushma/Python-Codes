{
 "cells": [
  {
   "cell_type": "code",
   "execution_count": 4,
   "id": "f49a969c",
   "metadata": {},
   "outputs": [],
   "source": [
    "def third(n1,n2,f):\n",
    "    print(n1,type(n1))\n",
    "    print(n2,type(n2))\n",
    "    print(n1,type(f))"
   ]
  },
  {
   "cell_type": "code",
   "execution_count": 1,
   "id": "dd351cae",
   "metadata": {},
   "outputs": [],
   "source": [
    "def add(a,b):\n",
    "    return a+b"
   ]
  },
  {
   "cell_type": "code",
   "execution_count": null,
   "id": "224917fa",
   "metadata": {},
   "outputs": [],
   "source": [
    "third() should take two numbers and a function as an argument and it should return the square of the addition of the numbers"
   ]
  },
  {
   "cell_type": "code",
   "execution_count": 2,
   "id": "c68113e6",
   "metadata": {},
   "outputs": [
    {
     "ename": "NameError",
     "evalue": "name 'third' is not defined",
     "output_type": "error",
     "traceback": [
      "\u001b[1;31m---------------------------------------------------------------------------\u001b[0m",
      "\u001b[1;31mNameError\u001b[0m                                 Traceback (most recent call last)",
      "Cell \u001b[1;32mIn[2], line 1\u001b[0m\n\u001b[1;32m----> 1\u001b[0m third(\u001b[38;5;241m5\u001b[39m,\u001b[38;5;241m6\u001b[39m,add)\n",
      "\u001b[1;31mNameError\u001b[0m: name 'third' is not defined"
     ]
    }
   ],
   "source": [
    "third(5,6,add)"
   ]
  },
  {
   "cell_type": "code",
   "execution_count": null,
   "id": "242ba941",
   "metadata": {},
   "outputs": [],
   "source": [
    "#f= add"
   ]
  },
  {
   "cell_type": "code",
   "execution_count": null,
   "id": "e941323b",
   "metadata": {},
   "outputs": [],
   "source": [
    "def third(n1,n2,f):\n",
    "    x=f(n1,n2)#add(n1,n2)\n",
    "    return x**2"
   ]
  },
  {
   "cell_type": "code",
   "execution_count": 5,
   "id": "fe184270",
   "metadata": {},
   "outputs": [
    {
     "name": "stdout",
     "output_type": "stream",
     "text": [
      "5 <class 'int'>\n",
      "6 <class 'int'>\n",
      "5 <class 'function'>\n"
     ]
    }
   ],
   "source": [
    "third(5,6,add)"
   ]
  },
  {
   "cell_type": "markdown",
   "id": "05d76f98",
   "metadata": {},
   "source": [
    "5. A function may return a function"
   ]
  },
  {
   "cell_type": "code",
   "execution_count": 7,
   "id": "c1628405",
   "metadata": {},
   "outputs": [],
   "source": [
    "def outer():\n",
    "    #print('I am the outer function')\n",
    "    def inner():\n",
    "        print('I am an inner function')\n",
    "    return inner"
   ]
  },
  {
   "cell_type": "code",
   "execution_count": 10,
   "id": "8c7b8281",
   "metadata": {},
   "outputs": [
    {
     "name": "stdout",
     "output_type": "stream",
     "text": [
      "<function outer.<locals>.inner at 0x000001CB8AD3E8E0>\n"
     ]
    }
   ],
   "source": [
    "x= outer()\n",
    "print(x)"
   ]
  },
  {
   "cell_type": "code",
   "execution_count": 11,
   "id": "66388201",
   "metadata": {},
   "outputs": [
    {
     "name": "stdout",
     "output_type": "stream",
     "text": [
      "I am an inner function\n"
     ]
    }
   ],
   "source": [
    "x()"
   ]
  },
  {
   "cell_type": "code",
   "execution_count": 12,
   "id": "ff4a77b1",
   "metadata": {},
   "outputs": [
    {
     "name": "stdout",
     "output_type": "stream",
     "text": [
      "I am an inner function\n",
      "None\n"
     ]
    }
   ],
   "source": [
    "y = x()\n",
    "print (y)"
   ]
  },
  {
   "cell_type": "code",
   "execution_count": 13,
   "id": "5e7e7db4",
   "metadata": {},
   "outputs": [
    {
     "name": "stdout",
     "output_type": "stream",
     "text": [
      "I am an inner function\n"
     ]
    }
   ],
   "source": [
    "outer()()"
   ]
  },
  {
   "cell_type": "markdown",
   "id": "6364e108",
   "metadata": {},
   "source": [
    "Function decorators"
   ]
  },
  {
   "cell_type": "markdown",
   "id": "68917289",
   "metadata": {},
   "source": [
    "# Sparse Matrix and sparse Vector"
   ]
  },
  {
   "cell_type": "markdown",
   "id": "f44f2e7c",
   "metadata": {},
   "source": []
  },
  {
   "cell_type": "code",
   "execution_count": 20,
   "id": "3f99235c",
   "metadata": {},
   "outputs": [
    {
     "data": {
      "text/plain": [
       "{0: 5, 5: 12, 13: 20, 20: 15}"
      ]
     },
     "execution_count": 20,
     "metadata": {},
     "output_type": "execute_result"
    }
   ],
   "source": [
    "vector =[5,0,0,0,0,12,0,0,0,0,0,0,0,20,0,0,0,0,0,0,15]\n",
    "#create a dictionary out of the above vector that contains the non-zero elements only\n",
    "#{0:5,5:12,13:20,20:15}\n",
    "def vector_to_dict(vector):\n",
    "    d={}\n",
    "    for i in range(len(vector)):\n",
    "        if vector[i]!=0:\n",
    "            d.update({i:vector[i]})\n",
    "    return d\n",
    "\n",
    "vector_to_dict(vector)"
   ]
  },
  {
   "cell_type": "code",
   "execution_count": 21,
   "id": "daff8495",
   "metadata": {},
   "outputs": [
    {
     "data": {
      "text/plain": [
       "{4: 5, 9: 2, 14: 7, 19: 6}"
      ]
     },
     "execution_count": 21,
     "metadata": {},
     "output_type": "execute_result"
    }
   ],
   "source": [
    "lst =[0,0,0,0,5,0,0,0,0,2,0,0,0,0,7,0,0,0,0,6]\n",
    "vector_to_dict(lst)"
   ]
  },
  {
   "cell_type": "code",
   "execution_count": 32,
   "id": "e64b830c",
   "metadata": {},
   "outputs": [],
   "source": [
    "d={4:5,9:2,14:7,19:6}\n",
    "#convert the above dict in to a vector\n",
    "def convert_dict_vector(d):\n",
    "    lst =[]\n",
    "    for i in range(max(d.keys())+1):\n",
    "        if i in d.keys():\n",
    "            lst.append(d[i])\n",
    "        else:\n",
    "            lst.append(0)\n",
    "    return(lst)\n"
   ]
  },
  {
   "cell_type": "code",
   "execution_count": 33,
   "id": "4af0e1ec",
   "metadata": {},
   "outputs": [
    {
     "data": {
      "text/plain": [
       "[0, 0, 5, 0, 0, 0, 0, 7, 0, 15]"
      ]
     },
     "execution_count": 33,
     "metadata": {},
     "output_type": "execute_result"
    }
   ],
   "source": [
    "d={2:5,7:7,9:15}\n",
    "convert_dict_vector(d)"
   ]
  },
  {
   "cell_type": "code",
   "execution_count": 41,
   "id": "066425fd",
   "metadata": {},
   "outputs": [],
   "source": [
    "\n",
    "def converter(d):\n",
    "    return [d[i] if i in d.keys() else 0 for i in range(max(d.keys())+1)]\n",
    "    "
   ]
  },
  {
   "cell_type": "code",
   "execution_count": 42,
   "id": "aa327bc7",
   "metadata": {},
   "outputs": [
    {
     "data": {
      "text/plain": [
       "[0, 0, 5, 0, 0, 0, 0, 7, 0, 15]"
      ]
     },
     "execution_count": 42,
     "metadata": {},
     "output_type": "execute_result"
    }
   ],
   "source": [
    "converter(d)"
   ]
  },
  {
   "cell_type": "markdown",
   "id": "2f581966",
   "metadata": {},
   "source": [
    "# Function decorator"
   ]
  },
  {
   "cell_type": "code",
   "execution_count": 46,
   "id": "49076129",
   "metadata": {},
   "outputs": [],
   "source": [
    "def division(x,y):\n",
    "    return x/y"
   ]
  },
  {
   "cell_type": "code",
   "execution_count": 47,
   "id": "b03da7c8",
   "metadata": {},
   "outputs": [
    {
     "name": "stdout",
     "output_type": "stream",
     "text": [
      "0.50000\n"
     ]
    }
   ],
   "source": [
    "x = division(2,4)\n",
    "print('%.5f'%x)"
   ]
  },
  {
   "cell_type": "markdown",
   "id": "fe106def",
   "metadata": {},
   "source": [
    "Function decorators - we can modify a function without modifying its defination\n",
    "-By using function decorators we can add some functionalities to an existing function without changing its functionality"
   ]
  },
  {
   "cell_type": "code",
   "execution_count": null,
   "id": "0838a132",
   "metadata": {},
   "outputs": [],
   "source": [
    "A function decorator is a function itself that takes a function as an input and returns a function after ading some features  to the existing function"
   ]
  },
  {
   "cell_type": "markdown",
   "id": "de2bfb5e",
   "metadata": {},
   "source": [
    "How to create a function decorator?"
   ]
  },
  {
   "cell_type": "code",
   "execution_count": null,
   "id": "e0cbe190",
   "metadata": {},
   "outputs": [],
   "source": [
    "def decorator(f):\n",
    "    def inner():\n",
    "        code\n",
    "        code# to add some functionality\n",
    "    return inner"
   ]
  },
  {
   "cell_type": "code",
   "execution_count": null,
   "id": "8e66dc39",
   "metadata": {},
   "outputs": [],
   "source": [
    "Generally the inner fuction that we use inside a decorator function we call it as a wrapper"
   ]
  },
  {
   "cell_type": "code",
   "execution_count": null,
   "id": "a1dc532d",
   "metadata": {},
   "outputs": [],
   "source": [
    "def decorator(f):\n",
    "    def wrapper():\n",
    "        code\n",
    "        code\n",
    "    return wrapper"
   ]
  },
  {
   "cell_type": "code",
   "execution_count": 49,
   "id": "241c2057",
   "metadata": {},
   "outputs": [],
   "source": [
    "def my_name(name):\n",
    "    return name"
   ]
  },
  {
   "cell_type": "code",
   "execution_count": 50,
   "id": "255cd628",
   "metadata": {},
   "outputs": [
    {
     "data": {
      "text/plain": [
       "'piyush'"
      ]
     },
     "execution_count": 50,
     "metadata": {},
     "output_type": "execute_result"
    }
   ],
   "source": [
    "my_name('piyush')"
   ]
  },
  {
   "cell_type": "code",
   "execution_count": 51,
   "id": "9ffd47ca",
   "metadata": {},
   "outputs": [],
   "source": [
    "def greet():\n",
    "    return 'Good Morning'"
   ]
  },
  {
   "cell_type": "code",
   "execution_count": 52,
   "id": "5a1261d1",
   "metadata": {},
   "outputs": [
    {
     "data": {
      "text/plain": [
       "'Good Morning'"
      ]
     },
     "execution_count": 52,
     "metadata": {},
     "output_type": "execute_result"
    }
   ],
   "source": [
    "greet()"
   ]
  },
  {
   "cell_type": "code",
   "execution_count": 61,
   "id": "6ac27683",
   "metadata": {},
   "outputs": [],
   "source": [
    "def decorator(f):\n",
    "    def wrapper():\n",
    "        x=f()\n",
    "        print('Hellow all '+x)\n",
    "    return wrapper"
   ]
  },
  {
   "cell_type": "code",
   "execution_count": 62,
   "id": "c4ce1c61",
   "metadata": {},
   "outputs": [
    {
     "name": "stdout",
     "output_type": "stream",
     "text": [
      "<function decorator.<locals>.wrapper at 0x000001CB8B93EF20>\n"
     ]
    }
   ],
   "source": [
    "x= decorator(greet)\n",
    "print(x)"
   ]
  },
  {
   "cell_type": "code",
   "execution_count": 63,
   "id": "1905bbef",
   "metadata": {},
   "outputs": [
    {
     "name": "stdout",
     "output_type": "stream",
     "text": [
      "Hellow allGood Morning\n"
     ]
    }
   ],
   "source": [
    "x()"
   ]
  },
  {
   "cell_type": "code",
   "execution_count": 64,
   "id": "e467b367",
   "metadata": {},
   "outputs": [
    {
     "data": {
      "text/plain": [
       "'Good Morning'"
      ]
     },
     "execution_count": 64,
     "metadata": {},
     "output_type": "execute_result"
    }
   ],
   "source": [
    "greet()"
   ]
  },
  {
   "cell_type": "code",
   "execution_count": null,
   "id": "8460d2b6",
   "metadata": {},
   "outputs": [],
   "source": [
    "decorator(greet)()"
   ]
  }
 ],
 "metadata": {
  "kernelspec": {
   "display_name": "Python 3 (ipykernel)",
   "language": "python",
   "name": "python3"
  },
  "language_info": {
   "codemirror_mode": {
    "name": "ipython",
    "version": 3
   },
   "file_extension": ".py",
   "mimetype": "text/x-python",
   "name": "python",
   "nbconvert_exporter": "python",
   "pygments_lexer": "ipython3",
   "version": "3.11.4"
  }
 },
 "nbformat": 4,
 "nbformat_minor": 5
}
