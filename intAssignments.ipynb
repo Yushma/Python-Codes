{
 "cells": [
  {
   "cell_type": "code",
   "execution_count": 1,
   "id": "1d304a48",
   "metadata": {},
   "outputs": [
    {
     "name": "stdout",
     "output_type": "stream",
     "text": [
      "<class 'int'>\n",
      "140727549662280\n"
     ]
    }
   ],
   "source": [
    "a = 10\n",
    "print(type(a))\n",
    "print(id(a))"
   ]
  },
  {
   "cell_type": "code",
   "execution_count": 5,
   "id": "d657f440",
   "metadata": {},
   "outputs": [
    {
     "name": "stdout",
     "output_type": "stream",
     "text": [
      "True\n",
      "140727549662280\n",
      "140727549662280\n"
     ]
    }
   ],
   "source": [
    "x= 10\n",
    "y=10\n",
    "print(x is y)\n",
    "print(id(x))\n",
    "print(id(y))\n"
   ]
  },
  {
   "cell_type": "code",
   "execution_count": 9,
   "id": "840ec62c",
   "metadata": {},
   "outputs": [
    {
     "name": "stdout",
     "output_type": "stream",
     "text": [
      "False\n",
      "1830113925616\n",
      "1830113924624\n"
     ]
    }
   ],
   "source": [
    "c= 258\n",
    "d= 258\n",
    "print(c is d)\n",
    "print(id(c))\n",
    "print(id(d))\n"
   ]
  },
  {
   "cell_type": "code",
   "execution_count": 12,
   "id": "a02807c8",
   "metadata": {},
   "outputs": [
    {
     "name": "stdout",
     "output_type": "stream",
     "text": [
      "sum =  50\n",
      "sub =  10\n",
      "mul =  600\n",
      "div =  1.5\n",
      "rem =  10\n",
      "pow =  348678440100000000000000000000\n"
     ]
    }
   ],
   "source": [
    "a = 30\n",
    "b = 20\n",
    "sum = a+b\n",
    "sub = a-b\n",
    "mul = a*b\n",
    "div = a/b\n",
    "rem = a%b\n",
    "pow = a**b\n",
    "\n",
    "print(\"sum = \",sum)\n",
    "print(\"sub = \",sub)\n",
    "print(\"mul = \",mul)\n",
    "print(\"div = \",div)\n",
    "print(\"rem = \",rem)\n",
    "print(\"pow = \",pow)"
   ]
  },
  {
   "cell_type": "code",
   "execution_count": 13,
   "id": "e1e807cd",
   "metadata": {},
   "outputs": [
    {
     "name": "stdout",
     "output_type": "stream",
     "text": [
      "False\n",
      "True\n",
      "False\n",
      "True\n"
     ]
    }
   ],
   "source": [
    "x = 10\n",
    "y = 20\n",
    "print(x>y)\n",
    "print(x<y)\n",
    "print(x>=y)\n",
    "print(x<=y)"
   ]
  },
  {
   "cell_type": "code",
   "execution_count": 14,
   "id": "159b873c",
   "metadata": {},
   "outputs": [
    {
     "name": "stdout",
     "output_type": "stream",
     "text": [
      "False\n",
      "True\n"
     ]
    }
   ],
   "source": [
    "'''Q. Equality Operator\n",
    "Take two different integer values.\n",
    "Store them in two different variables.\n",
    "Equate them using equality operators (==, !=)\n",
    "Observe the output(return type should be boolean)'''\n",
    "x=10\n",
    "y=20\n",
    "print(x==y)\n",
    "print(x!=y)"
   ]
  },
  {
   "cell_type": "code",
   "execution_count": null,
   "id": "79009329",
   "metadata": {},
   "outputs": [],
   "source": []
  }
 ],
 "metadata": {
  "kernelspec": {
   "display_name": "Python 3 (ipykernel)",
   "language": "python",
   "name": "python3"
  },
  "language_info": {
   "codemirror_mode": {
    "name": "ipython",
    "version": 3
   },
   "file_extension": ".py",
   "mimetype": "text/x-python",
   "name": "python",
   "nbconvert_exporter": "python",
   "pygments_lexer": "ipython3",
   "version": "3.11.4"
  }
 },
 "nbformat": 4,
 "nbformat_minor": 5
}
