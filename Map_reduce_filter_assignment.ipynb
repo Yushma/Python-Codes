{
 "cells": [
  {
   "cell_type": "code",
   "execution_count": 2,
   "id": "4de60d48",
   "metadata": {},
   "outputs": [
    {
     "data": {
      "text/plain": [
       "[3, 6, 9, 12, 15, 18, 21]"
      ]
     },
     "execution_count": 2,
     "metadata": {},
     "output_type": "execute_result"
    }
   ],
   "source": [
    "# Write a Python program to triple all numbers of a given list of integers. Use Python map\n",
    "l = [1,2,3,4,5,6,7]\n",
    "list(map(lambda x: 3*x,l))"
   ]
  },
  {
   "cell_type": "code",
   "execution_count": 6,
   "id": "9f41300b",
   "metadata": {},
   "outputs": [
    {
     "data": {
      "text/plain": [
       "[4, 9, 14, 19]"
      ]
     },
     "execution_count": 6,
     "metadata": {},
     "output_type": "execute_result"
    }
   ],
   "source": [
    "# Write a Python program to add three given lists using Python map and lambda\n",
    "l1 = [1,2,3,4]\n",
    "l2= [2,4,6,8,3]\n",
    "l3 = [1,3,5,7,8]\n",
    "list(map(lambda x,y,z:x+y+z,l1,l2,l3))"
   ]
  },
  {
   "cell_type": "code",
   "execution_count": 50,
   "id": "199c9832",
   "metadata": {},
   "outputs": [
    {
     "name": "stdout",
     "output_type": "stream",
     "text": [
      "[(6, 6), (6, 4), (10, -4), (16, 2)]\n"
     ]
    }
   ],
   "source": [
    "# Write a Python program to add two given lists and find the difference between lists\n",
    "\"\"\"\n",
    "sample list\n",
    "nums1 = [6, 5, 3, 9]\n",
    "nums2 = [0, 1, 7, 7]\n",
    "output  - [(6, 6), (6, 4), (10, -4), (16, 2)]\n",
    "\"\"\"\n",
    "nums1 = [6, 5, 3, 9]\n",
    "nums2 = [0, 1, 7, 7]\n",
    "l1 =list(map(lambda x,y:x+y ,nums1,nums2))\n",
    "l2 =list(map(lambda x,y:x-y ,nums1,nums2))\n",
    "l3 =[]\n",
    "for i in range(0,len(l1)):\n",
    "    l3.append((l1[i],l2[i]))\n",
    "print(l3)"
   ]
  },
  {
   "cell_type": "code",
   "execution_count": 20,
   "id": "339d0dbc",
   "metadata": {},
   "outputs": [
    {
     "name": "stdout",
     "output_type": "stream",
     "text": [
      "WRITE A PYTHON PROGRAM TO CONVERT ALL THE CHARACTERS IN UPPERCASE AND LOWERCASE\n",
      "write a python program to convert all the characters in uppercase and lowercase\n"
     ]
    },
    {
     "ename": "TypeError",
     "evalue": "list expected at most 1 argument, got 2",
     "output_type": "error",
     "traceback": [
      "\u001b[1;31m---------------------------------------------------------------------------\u001b[0m",
      "\u001b[1;31mTypeError\u001b[0m                                 Traceback (most recent call last)",
      "Cell \u001b[1;32mIn[20], line 10\u001b[0m\n\u001b[0;32m      8\u001b[0m     \u001b[38;5;28;01mreturn\u001b[39;00m \u001b[38;5;28mlist\u001b[39m(\u001b[38;5;28mdict\u001b[39m\u001b[38;5;241m.\u001b[39mfromkeys(\u001b[38;5;28mlist\u001b[39m(str_upper)))\n\u001b[0;32m      9\u001b[0m remove_duplicate(str_upper)\n\u001b[1;32m---> 10\u001b[0m \u001b[38;5;28mprint\u001b[39m(\u001b[38;5;28mlist\u001b[39m(\u001b[38;5;28;01mlambda\u001b[39;00m x: remove_duplicate(str_upper), str_upper))\n",
      "\u001b[1;31mTypeError\u001b[0m: list expected at most 1 argument, got 2"
     ]
    }
   ],
   "source": [
    "# Write a Python program to convert all the characters in uppercase and lowercase and eliminate duplicate letters from a given sequence\n",
    "str = \"Write a Python program to convert all the characters in uppercase and lowercase\"\n",
    "str_upper = str.upper()\n",
    "str_lower = str.lower()\n",
    "print(str_upper)\n",
    "print(str_lower)\n",
    "def remove_duplicate(str_upper):\n",
    "    return list(dict.fromkeys(list(str_upper)))\n",
    "remove_duplicate(str_upper)#pending\n",
    "print(list(lambda x: remove_duplicate(str_upper), str_upper))"
   ]
  },
  {
   "cell_type": "code",
   "execution_count": 90,
   "id": "e8093afa",
   "metadata": {},
   "outputs": [
    {
     "data": {
      "text/plain": [
       "['Apple', 'Avocado', 'Apricot']"
      ]
     },
     "execution_count": 90,
     "metadata": {},
     "output_type": "execute_result"
    }
   ],
   "source": [
    "# Filter out the fruits that start with A \n",
    "fruits = ['Banana','Apple','kiwi','Avocado','Mango','Apricot']\n",
    "list(filter(lambda x: x.startswith('A'),fruits))            "
   ]
  },
  {
   "cell_type": "code",
   "execution_count": 82,
   "id": "a9f76365",
   "metadata": {},
   "outputs": [
    {
     "data": {
      "text/plain": [
       "[1, 4, 5, 10]"
      ]
     },
     "execution_count": 82,
     "metadata": {},
     "output_type": "execute_result"
    }
   ],
   "source": [
    "# Filter out the positve number from a list\n",
    "l1 = [1,-3,4,5,-6,7-8,10]\n",
    "list(filter(lambda x: x>=0,l1))"
   ]
  },
  {
   "cell_type": "code",
   "execution_count": 92,
   "id": "0ffa0a4e",
   "metadata": {},
   "outputs": [
    {
     "data": {
      "text/plain": [
       "[5, 3, 10, 12, 9, 10]"
      ]
     },
     "execution_count": 92,
     "metadata": {},
     "output_type": "execute_result"
    }
   ],
   "source": [
    "# filter out the multiples of 3 and 5 from a list\n",
    "l = [2,5,4,3,10,12,7,8,9,10,43]\n",
    "list(filter(lambda x: (x%3==0 or x%5==0),l))"
   ]
  },
  {
   "cell_type": "code",
   "execution_count": 14,
   "id": "ea2f271f",
   "metadata": {},
   "outputs": [
    {
     "data": {
      "text/plain": [
       "'program'"
      ]
     },
     "execution_count": 14,
     "metadata": {},
     "output_type": "execute_result"
    }
   ],
   "source": [
    "# find the max string using reuduce function\n",
    "str = \"This is a Python program\"\n",
    "l= list(str.split(' '))\n",
    "from functools import reduce\n",
    "reduce(lambda x,y: x if len(x)>len(y) else y,l)"
   ]
  },
  {
   "cell_type": "code",
   "execution_count": 1,
   "id": "13fabcf6",
   "metadata": {},
   "outputs": [
    {
     "name": "stdout",
     "output_type": "stream",
     "text": [
      "maximum in the list = 1.1756799999999998\n",
      "minimum in the list = 3.4\n",
      "maximum in the list = 10\n"
     ]
    }
   ],
   "source": [
    "# find the mean , max and min of a given list using reduce function\n",
    "l = [8.5,6.3,9,10,3.4]\n",
    "from functools import reduce\n",
    "mean = reduce(lambda x,y: (x+y)/len(l), l)\n",
    "print(f\"maximum in the list = {mean}\".format(mean))\n",
    "min = reduce(lambda x,y: x if x<y else y, l)\n",
    "print(f\"minimum in the list = {min}\".format(min))\n",
    "max = reduce(lambda x,y: x if x>y else y, l)\n",
    "print(f\"maximum in the list = {max}\".format(max))"
   ]
  },
  {
   "cell_type": "code",
   "execution_count": null,
   "id": "286806de",
   "metadata": {},
   "outputs": [],
   "source": []
  },
  {
   "cell_type": "code",
   "execution_count": null,
   "id": "0b82382d",
   "metadata": {},
   "outputs": [],
   "source": []
  }
 ],
 "metadata": {
  "kernelspec": {
   "display_name": "Python 3 (ipykernel)",
   "language": "python",
   "name": "python3"
  },
  "language_info": {
   "codemirror_mode": {
    "name": "ipython",
    "version": 3
   },
   "file_extension": ".py",
   "mimetype": "text/x-python",
   "name": "python",
   "nbconvert_exporter": "python",
   "pygments_lexer": "ipython3",
   "version": "3.11.4"
  }
 },
 "nbformat": 4,
 "nbformat_minor": 5
}
