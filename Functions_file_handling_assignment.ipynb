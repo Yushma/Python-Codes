{
 "cells": [
  {
   "cell_type": "code",
   "execution_count": 2,
   "id": "e771063b",
   "metadata": {},
   "outputs": [
    {
     "name": "stdout",
     "output_type": "stream",
     "text": [
      "words1.txt \n",
      "\n",
      "Welcome to the Python Wiki, a user-editable compendium of knowledge\n",
      "\n",
      "based around the Python programming language. Some pages are protected\n",
      "\n",
      "against casual editing - see WikiEditingGuidelines for more information\n",
      "\n",
      "about editing content. \n",
      "\n",
      "words2.txt \n",
      "\n",
      "Python is a great object-oriented, interpreted, and interactive\n",
      "\n",
      "programming language. It is often compared (favorably of course :-) )\n",
      "\n",
      "to Lisp, Tcl, Perl, Ruby, C#, Visual Basic, Visual Fox Pro, Scheme or Java...\n",
      "\n",
      "and it's much more fun. \n"
     ]
    }
   ],
   "source": [
    "#Q1. Write a Python program to read a file line by line and store it into a list\n",
    "file = open(\"welcome_file.txt\")\n",
    "line = file.readlines()\n",
    "for i in line:\n",
    "    print(i)"
   ]
  },
  {
   "cell_type": "code",
   "execution_count": 9,
   "id": "aba7b89d",
   "metadata": {},
   "outputs": [
    {
     "name": "stdout",
     "output_type": "stream",
     "text": [
      "['Welcome to the Python Wiki, a user-editable compendium of knowledge\\nbased around the Python programming language. Some pages are protected\\nagainst casual editing - see WikiEditingGuidelines for more information\\nabout editing content.', \"Python is a great object-oriented, interpreted, and interactive\\nprogramming language. It is often compared (favorably of course :-) )\\nto Lisp, Tcl, Perl, Ruby, C#, Visual Basic, Visual Fox Pro, Scheme or Java...\\nand it's much more fun.\"]\n"
     ]
    }
   ],
   "source": [
    "#Q2. Write a Python program to extract characters from various text files and puts them into a list.\n",
    "file_list = ['words1.txt ','words2.txt']\n",
    "file = ''\n",
    "char_list = []\n",
    "for i in file_list:\n",
    "    file = open(i,'r')\n",
    "    \n",
    "    char_list.append(file.read())\n",
    "print(char_list)    "
   ]
  },
  {
   "cell_type": "code",
   "execution_count": null,
   "id": "59d668b9",
   "metadata": {},
   "outputs": [],
   "source": [
    "# Functions\n",
    "\n",
    "#1. Write a Python function to find the Max of three numbers. \n",
    "a = int(input(\"Enter first number\"))\n",
    "b = int(input(\"Enter second number\"))\n",
    "c = int(input(\"Enter third number\"))\n",
    "def max_number(a,b,c):\n",
    "    if a>b and a>c:\n",
    "        print(f\"{a} is maximum\".format(a))                                                                                                                 \n",
    "    elif a<b and b>c:\n",
    "        print(f\"{b} is maximum\".format(b))\n",
    "    else:\n",
    "        print(f\"{c} is maximum\".format(c))\n",
    "max_number(a,b,c)"
   ]
  },
  {
   "cell_type": "code",
   "execution_count": 110,
   "id": "759fdd92",
   "metadata": {},
   "outputs": [
    {
     "name": "stdout",
     "output_type": "stream",
     "text": [
      "Enter list values[1,2,3,4,5]\n"
     ]
    },
    {
     "data": {
      "text/plain": [
       "15"
      ]
     },
     "execution_count": 110,
     "metadata": {},
     "output_type": "execute_result"
    }
   ],
   "source": [
    "#2. Write a Python function to sum all the numbers in a list\n",
    "l = eval(input(\"Enter list values\"))\n",
    "\n",
    "def list_sum(l):\n",
    "    #print(sum(l))\n",
    "    sum =0\n",
    "    for i in l:\n",
    "        sum = sum+i\n",
    "    return sum\n",
    "list_sum(l)"
   ]
  },
  {
   "cell_type": "code",
   "execution_count": 80,
   "id": "3bfa7ea8",
   "metadata": {},
   "outputs": [
    {
     "name": "stdout",
     "output_type": "stream",
     "text": [
      "Given sentence is a pangram\n"
     ]
    }
   ],
   "source": [
    "\"\"\"3. Write a Python function to check whether a string is a pangram or not. </b> <br>\n",
    "Note : Pangrams are words or sentences containing every letter of the alphabet at least once.<br>\n",
    "For example : \"The quick brown fox jumps over the lazy dog\"\"\"\n",
    "import string \n",
    "str = \"The quick brown fox jumps over the lazy dog\"\n",
    "no_space_str = str.replace(\" \", \"\")\n",
    "flag = 0\n",
    "alphabets = list(string.ascii_lowercase) \n",
    "if len(no_space_str) >=26:\n",
    "    for i in alphabets:\n",
    "        if i not in no_space_str.lower():\n",
    "            flag = 1 \n",
    "            break\n",
    "        else:\n",
    "            continue\n",
    "print(\"Given sentence is not a pangram\") if flag==1 else print(\"Given sentence is a pangram\")\n",
    "    "
   ]
  },
  {
   "cell_type": "code",
   "execution_count": 91,
   "id": "8d091494",
   "metadata": {},
   "outputs": [
    {
     "name": "stdout",
     "output_type": "stream",
     "text": [
      "[('Social sciences', 82), ('English', 88), ('Science', 90), ('Maths', 97)]\n"
     ]
    }
   ],
   "source": [
    "\"\"\"\n",
    "4. Write a Python program to sort a list of tuples using Lambda.</b> <br>\n",
    "Original list of tuples:<br>\n",
    "[('English', 88), ('Science', 90), ('Maths', 97), ('Social sciences', 82)]<br>\n",
    "Sorting the List of Tuples:<br>\n",
    "[('Social sciences', 82), ('English', 88), ('Science', 90), ('Maths', 97)]<br>\n",
    "\n",
    "\"\"\"\n",
    "tuple_list = [('English', 88), ('Science', 90), ('Maths', 97), ('Social sciences', 82)]\n",
    "def Sort_Tuple(tuple_list): \n",
    "    tuple_list.sort(key=lambda x: x[1]) \n",
    "    return tuple_list \n",
    "print(Sort_Tuple(tuple_list))"
   ]
  },
  {
   "cell_type": "code",
   "execution_count": 109,
   "id": "2fd96ae1",
   "metadata": {},
   "outputs": [
    {
     "name": "stdout",
     "output_type": "stream",
     "text": [
      "0\n",
      "1\n",
      "1\n",
      "2\n",
      "3\n",
      "5\n",
      "8\n",
      "13\n",
      "21\n",
      "34\n",
      "55\n",
      "89\n",
      "144\n",
      "233\n",
      "377\n",
      "610\n",
      "987\n",
      "1597\n",
      "2584\n",
      "4181\n",
      "6765\n",
      "10946\n",
      "17711\n",
      "28657\n",
      "46368\n",
      "75025\n",
      "121393\n",
      "196418\n",
      "317811\n",
      "514229\n",
      "832040\n",
      "1346269\n",
      "2178309\n",
      "3524578\n",
      "5702887\n",
      "9227465\n",
      "14930352\n",
      "24157817\n",
      "39088169\n",
      "63245986\n",
      "102334155\n",
      "165580141\n",
      "267914296\n",
      "433494437\n",
      "701408733\n",
      "1134903170\n",
      "1836311903\n",
      "2971215073\n",
      "4807526976\n",
      "7778742049\n",
      "12586269025\n"
     ]
    }
   ],
   "source": [
    "\"\"\"5. Write a Python program to get the Fibonacci series between 0 to 50.\"\"\"\n",
    "a =0\n",
    "b= 1\n",
    "n= 50\n",
    "#0112358\n",
    "def fibonnacci(n,a,b):\n",
    "    print(a)\n",
    "    for i in range(0,50):\n",
    "        fib=a+b\n",
    "        a=b\n",
    "        b = fib\n",
    "        print(a)\n",
    "fibonnacci(n,a,b) "
   ]
  },
  {
   "cell_type": "code",
   "execution_count": 36,
   "id": "64fb801e",
   "metadata": {},
   "outputs": [
    {
     "name": "stdout",
     "output_type": "stream",
     "text": [
      "Enter temp in celsius33\n",
      "temperature in fahrenheit91.4\n",
      "temperature in celcius33.0\n"
     ]
    }
   ],
   "source": [
    "#6. Write a Python program to convert temperatures to and from celsius, fahrenheit\n",
    "celsius = float(input(\"Enter temp in celsius\"))\n",
    "def celcius_fahrenheit(celsius):\n",
    "    fahrenheit = (celsius * 9/5) + 32\n",
    "    print(f\"temperature in fahrenheit{fahrenheit}\".format(fahrenheit))\n",
    "    fahrenheit_celcius(fahrenheit)\n",
    "def fahrenheit_celcius(fahrenheit):\n",
    "    celcius = (fahrenheit - 32) * 5/9\n",
    "    print(f\"temperature in celcius{celcius}\".format(celcius))\n",
    "celcius_fahrenheit(celsius)"
   ]
  },
  {
   "cell_type": "code",
   "execution_count": 46,
   "id": "bb01cfc7",
   "metadata": {},
   "outputs": [
    {
     "name": "stdout",
     "output_type": "stream",
     "text": [
      "Number of even numbers in the given sequence 4\n",
      "Number of odd numbers in the given sequence 5\n"
     ]
    }
   ],
   "source": [
    "#7. Write a Python program to count the number of even and odd numbers from a series of numbers.\n",
    "list_even_odd= [1,2,3,4,5,6,7,8,9]\n",
    "def odd_even_count(list_even_odd):\n",
    "    even_count=0\n",
    "    odd_count =0\n",
    "    for i in list_even_odd:\n",
    "         \n",
    "        if i%2==0:\n",
    "            even_count=even_count+1\n",
    "        else:\n",
    "            odd_count=odd_count+1\n",
    "    print(f\"Number of even numbers in the given sequence {even_count}\")\n",
    "    print(f\"Number of odd numbers in the given sequence {odd_count}\")\n",
    "odd_even_count(list_even_odd)                      "
   ]
  },
  {
   "cell_type": "code",
   "execution_count": 12,
   "id": "31a8c4ea",
   "metadata": {},
   "outputs": [
    {
     "name": "stdout",
     "output_type": "stream",
     "text": [
      "1\n",
      "2\n",
      "Fizz\n",
      "4\n",
      "5\n",
      "Fizz\n",
      "7\n",
      "8\n",
      "Fizz\n",
      "10\n",
      "11\n",
      "Fizz\n",
      "13\n",
      "14\n",
      "FizzBuzz\n",
      "16\n",
      "17\n",
      "Fizz\n",
      "19\n",
      "20\n",
      "Fizz\n",
      "22\n",
      "23\n",
      "Fizz\n",
      "25\n",
      "26\n",
      "Fizz\n",
      "28\n",
      "29\n",
      "FizzBuzz\n",
      "31\n",
      "32\n",
      "Fizz\n",
      "34\n",
      "35\n",
      "Fizz\n",
      "37\n",
      "38\n",
      "Fizz\n",
      "40\n",
      "41\n",
      "Fizz\n",
      "43\n",
      "44\n",
      "FizzBuzz\n",
      "46\n",
      "47\n",
      "Fizz\n",
      "49\n",
      "50\n"
     ]
    }
   ],
   "source": [
    "#8. Write a Python program which iterates the integers from 1 to 50. For multiples of three print \"Fizz\" instead of the number and for the multiples of five print \"Buzz\". For numbers which are multiples of both three and five print \"FizzBuzz\". \n",
    "def int_iteration():\n",
    "    for i in range(1,51):\n",
    "        (print(\"FizzBuzz\") if i%5 == 0 else print(\"Fizz\")) if i%3 == 0 else print(i)\n",
    "int_iteration()"
   ]
  },
  {
   "cell_type": "code",
   "execution_count": null,
   "id": "a45dc55c",
   "metadata": {},
   "outputs": [],
   "source": []
  }
 ],
 "metadata": {
  "kernelspec": {
   "display_name": "Python 3 (ipykernel)",
   "language": "python",
   "name": "python3"
  },
  "language_info": {
   "codemirror_mode": {
    "name": "ipython",
    "version": 3
   },
   "file_extension": ".py",
   "mimetype": "text/x-python",
   "name": "python",
   "nbconvert_exporter": "python",
   "pygments_lexer": "ipython3",
   "version": "3.11.4"
  }
 },
 "nbformat": 4,
 "nbformat_minor": 5
}
