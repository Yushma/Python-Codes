{
 "cells": [
  {
   "cell_type": "code",
   "execution_count": 3,
   "id": "14435a82",
   "metadata": {},
   "outputs": [
    {
     "name": "stdout",
     "output_type": "stream",
     "text": [
      "{'email': 'tom_latham019@gmail.com', 'Phone': 1987654321, 'City': 'California'}\n",
      "{'email': 'kathy_abram897@gmail.com', 'Phone': 1887654321, 'City': 'New York'}\n"
     ]
    }
   ],
   "source": [
    "# Initialize a dictionary \"emp_info\" with below details\n",
    "# In - emp_info['Tom']\n",
    "# Out - {'email':'tom_latham019@gmail.com', 'Phone': +1987654321, 'City': 'California'}\n",
    "emp_info = {}\n",
    "emp_info['Tom'] = {'email':'tom_latham019@gmail.com', 'Phone': +1987654321, 'City': 'California'}\n",
    "print(emp_info['Tom'])\n",
    "\n",
    "# In - emp_info['Kathy']\n",
    "# Out - {'email':'kathy_abram897@gmail.com', 'Phone': +1887654321, 'City': 'New York'}\n",
    "emp_info = {}\n",
    "emp_info['Kathy'] = {'email':'kathy_abram897@gmail.com', 'Phone': +1887654321, 'City': 'New York'}\n",
    "print(emp_info['Kathy'])"
   ]
  },
  {
   "cell_type": "code",
   "execution_count": 21,
   "id": "36494f63",
   "metadata": {},
   "outputs": [
    {
     "name": "stdout",
     "output_type": "stream",
     "text": [
      "{'emp1': {'e_name': 'John', 'e_id': 'SG101', 'e_sal': '$10,000'}, 'emp2': {'e_name': 'Smith', 'e_id': 'SG102', 'e_sal': '$9,000'}, 'emp3': {'e_name': 'Peter', 'e_id': 'SG103', 'e_sal': '$9,500'}}\n"
     ]
    }
   ],
   "source": [
    "# Create a dictionary out of below inputs\n",
    "# lst1 = ['emp1', 'emp2', 'emp3']\n",
    "# emp_key = ['e_name', 'e_id', 'e_sal']\n",
    "# emp1_val = ['John', 'SG101', '$10,000']\n",
    "# emp2_val = ['Smith', 'SG102', '$9,000']\n",
    "# emp3_val = ['Peter', 'SG103', '$9,500']\n",
    "\n",
    "# Expected Output:- {'emp1':{'e_name':'John', 'e_id':'SG101', 'e_sal':$10,000}, \n",
    "#                    'emp2':{'e_name':'Smith', 'e_id':'SG102', 'e_sal':$9,000}, \n",
    "#                    'emp3':{'e_name':'Peter', 'e_id':'SG103', 'e_sal':$9,500}}\n",
    "\n",
    "\"\"\"dict =              {'emp1':{'e_name':'John', 'e_id':'SG101', 'e_sal':'$10,000'}, \n",
    "                     'emp2':{'e_name':'Smith', 'e_id':'SG102', 'e_sal':'$9,000'}, \n",
    "                     'emp3':{'e_name':'Peter', 'e_id':'SG103', 'e_sal':'$9,500'}}\n",
    "#print(dict)\n",
    "\"\"\"\n",
    "\n",
    "#another method\n",
    "\n",
    "lst1 =  ['emp1', 'emp2', 'emp3']\n",
    "emp_key = ['e_name', 'e_id', 'e_sal']\n",
    "emp1_val = ['John', 'SG101', '$10,000']\n",
    "emp2_val = ['Smith', 'SG102', '$9,000']\n",
    "emp3_val = ['Peter', 'SG103', '$9,500']\n",
    "dict = {}\n",
    "\n",
    "dict = {lst1[0]:{emp_key[0]:emp1_val[0],emp_key[1]:emp1_val[1],emp_key[2]:emp1_val[2]},lst1[1]:{emp_key[0]:emp2_val[0],emp_key[1]:emp2_val[1],emp_key[2]:emp2_val[2]},lst1[2]:{emp_key[0]:emp3_val[0],emp_key[1]:emp3_val[1],emp_key[2]:emp3_val[2]}}\n",
    "print(dict)\n"
   ]
  },
  {
   "cell_type": "code",
   "execution_count": 28,
   "id": "1ac651d4",
   "metadata": {},
   "outputs": [
    {
     "name": "stdout",
     "output_type": "stream",
     "text": [
      "80\n"
     ]
    }
   ],
   "source": [
    "# Acess the value of key 'history'\n",
    "\n",
    "sampleDict = { \n",
    "   \"class\":{ \n",
    "      \"student\":{ \n",
    "         \"name\":\"Mike\",\n",
    "         \"marks\":{ \n",
    "            \"physics\":70,\n",
    "            \"history\":80\n",
    "         }\n",
    "      }\n",
    "   }\n",
    "}\n",
    "print(sampleDict.get('class').get('student').get('marks').get('history'))"
   ]
  },
  {
   "cell_type": "code",
   "execution_count": 29,
   "id": "924662f5",
   "metadata": {},
   "outputs": [
    {
     "name": "stdout",
     "output_type": "stream",
     "text": [
      "{'Kelly': {'designation': 'Application Developer', 'salary': 8000}, 'Emma': {'designation': 'Application Developer', 'salary': 8000}, 'John': {'designation': 'Application Developer', 'salary': 8000}}\n"
     ]
    }
   ],
   "source": [
    "# Initialize dictionary with default values. Inputs are:-\n",
    "# employees = ['Kelly', 'Emma', 'John']\n",
    "# defaults = {\"designation\": 'Application Developer', \"salary\": 8000}\n",
    "\n",
    "#Expected output:- {'Kelly': {'designation': 'Application Developer', 'salary': 8000}, \n",
    "#                   'Emma': {'designation': 'Application Developer', 'salary': 8000}, \n",
    "#                   'John': {'designation': 'Application Developer', 'salary': 8000}}\n",
    "dict = {}\n",
    "dict.setdefault('Kelly',{\"designation\": 'Application Developer', \"salary\": 8000})\n",
    "dict.setdefault('Emma',{\"designation\": 'Application Developer', \"salary\": 8000})\n",
    "dict.setdefault('John',{\"designation\": 'Application Developer', \"salary\": 8000})\n",
    "print(dict)"
   ]
  },
  {
   "cell_type": "code",
   "execution_count": 145,
   "id": "8fa83425",
   "metadata": {},
   "outputs": [
    {
     "data": {
      "text/plain": [
       "'UAGC'"
      ]
     },
     "execution_count": 145,
     "metadata": {},
     "output_type": "execute_result"
    }
   ],
   "source": [
    "# In gene expression, mRNA is transcribed from a DNA template. \n",
    "# The 4 nucleotide bases of A, T, C, G corresponds to the U, A, G, C bases of the mRNA. \n",
    "# Write a function that returns the mRNA transcript given the sequence of a DNA strand.\n",
    "\n",
    "# Use a dictionary to provide the mapping of DNA to RNA bases.\n",
    "dna_template ={'A':'U', 'T':'A', 'C':'G', 'G':'C'  }\n",
    "def mRNAtranscription(dna_template):\n",
    "    dna2rna = {'A':'U', 'T':'A', 'C':'G', 'G':'C'  }\n",
    "    mRNA = ''\n",
    "    for base in dna_template:    \n",
    "        mRNA+=(dna2rna.get(base))  \n",
    "    return mRNA\n",
    "mRNAtranscription(dna_template)"
   ]
  },
  {
   "cell_type": "code",
   "execution_count": 58,
   "id": "24eada9d",
   "metadata": {},
   "outputs": [
    {
     "name": "stdout",
     "output_type": "stream",
     "text": [
      "{'g': 2, 'o': 3, 'l': 1, 'e': 1, '.': 1, 'c': 1, 'm': 1}\n"
     ]
    }
   ],
   "source": [
    "# Write a function which takes a word as input and returns a \n",
    "  #dictionary with letters as key and no of time letters are repeated as value.\n",
    "# In - count_letter('google.com')\n",
    "# Out - {'g': 2, 'o': 3, 'l': 1, 'e': 1, '.': 1, 'c': 1, 'm': 1}\n",
    "dict = {}\n",
    "def count_letter(str):\n",
    "    for i in range(0,len(str)):\n",
    "        count = 1\n",
    "        if(str[i]!=0):\n",
    "            for j in range(i+1,len(str)):\n",
    "                if(str[i]==str[j] and str[i]!=' '):\n",
    "                    count = count+1\n",
    "                    str = str[:j] + '0' + str[j+1:]\n",
    "                \n",
    "                    \n",
    "            if(str[i] != '0'): \n",
    "                x = dict.setdefault(str[i],count)\n",
    "    print(dict)            \n",
    "count_letter('google.com') \n"
   ]
  },
  {
   "cell_type": "code",
   "execution_count": 50,
   "id": "0288baae",
   "metadata": {},
   "outputs": [
    {
     "name": "stdout",
     "output_type": "stream",
     "text": [
      "{'A': 1, 'G': 1, 'T': 1}\n"
     ]
    }
   ],
   "source": [
    "# A DNA strand consisting of the 4 nucleotide bases is usually represented \n",
    "#with a string of letters: A,T, C, G. \n",
    "# Write a function that computes the base composition of a given DNA sequence.\n",
    "\n",
    "# In - baseComposition(\"CTATCGGCACCCTTTCAGCA\")\n",
    "# Out - {'A': 4, 'C': 8, 'T': 5,  'G': 3 }\n",
    "    \n",
    "# In - baseComposition(\"AGT\")\n",
    "# Out - {'A': 1, 'C': 0, 'T': 1,  'G': 1 }\n",
    "\n",
    "dict = {}\n",
    "def baseComposition(str2):\n",
    "    #print(str2)\n",
    "    for i in range(0,len(str2)):\n",
    "        count = 1\n",
    "        if(str2[i]!=0):\n",
    "            for j in range(i+1,len(str2)):\n",
    "                if(str2[i]==str2[j] and str2[i]!=' '):\n",
    "                    count = count+1\n",
    "                    str2 = str2[:j]+ '0' +str2[j+1:]\n",
    "            if(str2[i]!= '0'):\n",
    "                \n",
    "                dict.setdefault(str2[i],count)\n",
    "                \n",
    "    print(dict)            \n",
    "#baseComposition(\"CTATCGGCACCCTTTCAGCA\")\n",
    "baseComposition(\"AGT\")\n",
    "#check"
   ]
  },
  {
   "cell_type": "code",
   "execution_count": 54,
   "id": "75d966a3",
   "metadata": {},
   "outputs": [
    {
     "name": "stdout",
     "output_type": "stream",
     "text": [
      "{'Name': 'Tom'}\n"
     ]
    }
   ],
   "source": [
    "# [MCQ] Suppose \"d\" is an empty dictionary, \n",
    "which statement does not assign \"d\" with {\"Name\":\"Tom\"}? \n",
    "# 1. d = {\"Name\": \"Tom\" }\n",
    "# 2. d[\"Name\"] = \"Tom\"\n",
    "# 3. d.update({\"Name\": \"Tom\" })\n",
    "# 4. d.setdefault(\"Name\", \"Tom\")\n",
    "5. None of the above.\n"
   ]
  },
  {
   "cell_type": "code",
   "execution_count": 61,
   "id": "a98c5a9b",
   "metadata": {},
   "outputs": [
    {
     "name": "stdout",
     "output_type": "stream",
     "text": [
      "dict_values([1, 2])\n"
     ]
    }
   ],
   "source": [
    "# [MCQ] d = {\"a\":1, \"b\":2}. Which of the statements returns [1,2]? \n",
    "# 1. d.keys()\n",
    "# 2. d.values()\n",
    "# 3. d.items()\n",
    "# 4. d.popitem()\n",
    "# 5. None of the above.\n",
    "d = {\"a\":1, \"b\":2}\n",
    "print(d.values())\n",
    "#Ans:  2. d.values()"
   ]
  },
  {
   "cell_type": "code",
   "execution_count": 69,
   "id": "81cb56d5",
   "metadata": {},
   "outputs": [],
   "source": [
    "# [MCQ] Which of the following declarations is not valid for 'dict' type?\n",
    "# 1. d = {\"Name\": \"Tom\" }\n",
    "# 2. d = { (1,3,4): 4.5 }\n",
    "# 3. d = { [\"First\", \"Last\"]: (1,3) }\n",
    "# 4. d = { 1: 0.4 }\n",
    "# 5. None of the above\n",
    "\n",
    "2. d = { (1,3,4): 4.5 }- not valid becz number of keys and values are not equall"
   ]
  },
  {
   "cell_type": "code",
   "execution_count": 19,
   "id": "c8474a14",
   "metadata": {},
   "outputs": [
    {
     "name": "stdout",
     "output_type": "stream",
     "text": [
      "['a']\n",
      "['b', 'c']\n",
      "[]\n"
     ]
    }
   ],
   "source": [
    "# Write a function reverseLookup(dictionary, value) that takes in a dictionary \n",
    "# and a value as arguments and returns a sorted list of all keys that contains the value. \n",
    "# The function will return an empty list if no match is found.\n",
    "\n",
    "# In - reverseLookup({'a':1, 'b':2, 'c':2}, 1)\n",
    "# Out - ['a']\n",
    "# In - reverseLookup({'a':1, 'b':2, 'c':2}, 2)\n",
    "# Out - ['b', 'c']\n",
    "# In - reverseLookup({'a':1, 'b':2, 'c':2}, 3)\n",
    "# Out - []\n",
    "def reverseLookup(dict,val):\n",
    "    l= []\n",
    "    for i in dict:\n",
    "        if(dict[i]==val):\n",
    "            l.append(i)\n",
    "        \n",
    "    return l\n",
    "print(reverseLookup({'a':1, 'b':2, 'c':2}, 1))\n",
    "print(reverseLookup({'a':1, 'b':2, 'c':2}, 2))\n",
    "print(reverseLookup({'a':1, 'b':2, 'c':2}, 3))"
   ]
  },
  {
   "cell_type": "code",
   "execution_count": 25,
   "id": "5e3bf54e",
   "metadata": {},
   "outputs": [
    {
     "name": "stdout",
     "output_type": "stream",
     "text": [
      "['a', 'b', 'c', 'd']\n",
      "['a', 'b', 'c']\n",
      "['a', 'b', 'c', 'd']\n"
     ]
    }
   ],
   "source": [
    "# Write a function invertDictionary(d) that takes in a dictionary as \n",
    "#argument and return a dictionary that inverts the keys \n",
    "#and the values of the original dictionary.\n",
    "# In - invertDictionary({'a':1, 'b':2, 'c':3, 'd':2})\n",
    "# Out - {1: ['a'], 2: ['b', 'd'], 3: ['c']}\n",
    "# In - invertDictionary({'a':3, 'b':3, 'c':3})\n",
    "# Out - {3: ['a', 'c', 'b']}\n",
    "# In - invertDictionary({'a':2, 'b':1, 'c':2, 'd':1})\n",
    "# Out - {1: ['b', 'd'], 2: ['a', 'c']}\n",
    "\n",
    "\n",
    "l = []\n",
    "d1={}\n",
    "def invertDictionary(d):\n",
    "    \"\"\"d =dict(zip(d.values(), d.keys()))\n",
    "    print(d)\n",
    "    for i in d1.keys():\n",
    "        print(i)\n",
    "        l.append(d.get(i))\n",
    "        d1.setdefault(i,l)\n",
    "    return d1\n",
    "    [k for k,v in a.items() if v == b])\n",
    "    \"\"\"\n",
    "    d.values()\n",
    "    l= []\n",
    "    for i in d:\n",
    "        if(d[i] in d.values()):\n",
    "            l.append(i)\n",
    "        \n",
    "    return l\n",
    "   \n",
    "print(invertDictionary({'a':1, 'b':2, 'c':3, 'd':2}))\n",
    "print(invertDictionary({'a':3, 'b':3, 'c':3}))\n",
    "print(invertDictionary({'a':2, 'b':1, 'c':2, 'd':1}))"
   ]
  },
  {
   "cell_type": "code",
   "execution_count": 17,
   "id": "ef0e7998",
   "metadata": {},
   "outputs": [
    {
     "name": "stdout",
     "output_type": "stream",
     "text": [
      "{0: 1, 3: 2, 7: 3, 12: 4}\n",
      "{0: 1, 2: 1, 4: 2, 6: 1, 9: 1}\n",
      "{}\n"
     ]
    }
   ],
   "source": [
    "# Write a function that converts a sparse vector into a dictionary as described above.\n",
    "# In - convertVector([1, 0, 0, 2, 0, 0, 0, 3, 0, 0, 0, 0, 4])\n",
    "# Out - {0: 1, 3: 2, 7: 3, 12: 4}\n",
    "# In - convertVector([1, 0, 1 , 0, 2, 0, 1, 0, 0, 1, 0])\n",
    "# Out - {0: 1, 2: 1, 4: 2, 6: 1, 9: 1}\n",
    "# In - convertVector([0, 0, 0, 0, 0])\n",
    "# Out - {}\n",
    "def convertVector(l):\n",
    "    k = 0\n",
    "    dict={}\n",
    "    for i in l:\n",
    "        if(i!=0):\n",
    "            dict.setdefault(k,i)\n",
    "        k=k+1    \n",
    "    print(dict)\n",
    "\n",
    "convertVector([1, 0, 0, 2, 0, 0, 0, 3, 0, 0, 0, 0, 4])\n",
    "convertVector([1, 0, 1 , 0, 2, 0, 1, 0, 0, 1, 0])\n",
    "convertVector([0, 0, 0, 0, 0])"
   ]
  },
  {
   "cell_type": "code",
   "execution_count": 161,
   "id": "5c7652b7",
   "metadata": {},
   "outputs": [
    {
     "name": "stdout",
     "output_type": "stream",
     "text": [
      "[1, 0, 0, 2, 0, 0, 0, 3, 0, 0, 0, 0, 4]\n",
      "[1, 0, 1, 0, 2, 0, 1, 0, 0, 1]\n",
      "[]\n"
     ]
    }
   ],
   "source": [
    "# Write a function that converts a dictionary back to its sparse vector representation.\n",
    "# In - convertDictionary({0: 1, 3: 2, 7: 3, 12: 4})\n",
    "# Out - [1, 0, 0, 2, 0, 0, 0, 3, 0, 0, 0, 0, 4]\n",
    "# In - convertDictionary({0: 1, 2: 1, 4: 2, 6: 1, 9: 1})\n",
    "# Out - [1, 0, 1, 0, 2, 0, 1, 0, 0, 1]\n",
    "# In - convertDictionary({})\n",
    "# Out - []\n",
    "def convertDictionary(dict):\n",
    "    l =[]\n",
    "    for i in range(0,max(dict.keys())+1 if len(dict.keys())else 0):\n",
    "        if(i in dict.keys()):\n",
    "            l.append(dict[i])\n",
    "        else:\n",
    "            l.append(0)\n",
    "    print(l)\n",
    "convertDictionary({0: 1, 3: 2, 7: 3, 12: 4})\n",
    "convertDictionary({0: 1, 2: 1, 4: 2, 6: 1, 9: 1})\n",
    "convertDictionary({})"
   ]
  },
  {
   "cell_type": "code",
   "execution_count": 121,
   "id": "8a59b0a5",
   "metadata": {},
   "outputs": [
    {
     "name": "stdout",
     "output_type": "stream",
     "text": [
      "{'emp1': {'name': 'Jhon', 'salary': 7500}, 'emp2': {'name': 'Emma', 'salary': 8000}, 'emp3': {'name': 'Brad', 'salary': 8500}}\n"
     ]
    }
   ],
   "source": [
    "# Given a Python dictionary, Change Brad’s salary to 8500\n",
    "# sampleDict = {\n",
    "#      'emp1': {'name': 'Jhon', 'salary': 7500},\n",
    "#      'emp2': {'name': 'Emma', 'salary': 8000},\n",
    "#      'emp3': {'name': 'Brad', 'salary': 6500}\n",
    "# }\n",
    "\n",
    "# Expected Output\n",
    "# sampleDict = {\n",
    "#      'emp1': {'name': 'Jhon', 'salary': 7500},\n",
    "#      'emp2': {'name': 'Emma', 'salary': 8000},\n",
    "#      'emp3': {'name': 'Brad', 'salary': 8500}\n",
    "# }\n",
    "sampleDict = {\n",
    "      'emp1': {'name': 'Jhon', 'salary': 7500},\n",
    "      'emp2': {'name': 'Emma', 'salary': 8000},\n",
    "      'emp3': {'name': 'Brad', 'salary': 6500}\n",
    " }\n",
    "sampleDict['emp3']['salary']=8500\n",
    "\n",
    "print(sampleDict)"
   ]
  },
  {
   "cell_type": "code",
   "execution_count": 130,
   "id": "3658fb5d",
   "metadata": {},
   "outputs": [
    {
     "name": "stdout",
     "output_type": "stream",
     "text": [
      "Math\n"
     ]
    }
   ],
   "source": [
    "# Get the key corresponding to the minimum value from the following dictionary\n",
    "# sampleDict = {\n",
    "#   'Physics': 82,\n",
    "#   'Math': 65,\n",
    "#   'history': 75\n",
    "# }\n",
    "\n",
    "# Expected Output\n",
    "# Math\n",
    "sampleDict = {\n",
    "   'Physics': 82,\n",
    "   'Math': 65,\n",
    "   'history': 75\n",
    " }\n",
    "value_list = list(sampleDict.values())\n",
    "value_list.sort()\n",
    "for i in sampleDict:\n",
    "    \n",
    "    if(value_list[0]==sampleDict.get(i)):\n",
    "        print(i)\n",
    "   "
   ]
  },
  {
   "cell_type": "code",
   "execution_count": 134,
   "id": "4e7f448d",
   "metadata": {},
   "outputs": [
    {
     "name": "stdout",
     "output_type": "stream",
     "text": [
      "{'name': 'Kelly', 'age': 25, 'salary': 8000, 'location': 'New york'}\n"
     ]
    }
   ],
   "source": [
    "# Rename key city to location in the following dictionary\n",
    "# sampleDict = {\n",
    "#   \"name\": \"Kelly\",\n",
    "#   \"age\":25,\n",
    "#   \"salary\": 8000,\n",
    "#   \"city\": \"New york\"\n",
    "# }\n",
    "\n",
    "# Expected Output\n",
    "# {\n",
    "#   \"name\": \"Kelly\",\n",
    "#   \"age\":25,\n",
    "#   \"salary\": 8000,\n",
    "#   \"location\": \"New york\"\n",
    "# }\n",
    "sampleDict = {\n",
    "   \"name\": \"Kelly\",\n",
    "   \"age\":25,\n",
    "   \"salary\": 8000,\n",
    "   \"city\": \"New york\"\n",
    " }\n",
    "sampleDict['location']= sampleDict['city']\n",
    "sampleDict.pop('city')\n",
    "print(sampleDict)"
   ]
  },
  {
   "cell_type": "code",
   "execution_count": 136,
   "id": "c8378e26",
   "metadata": {},
   "outputs": [
    {
     "name": "stdout",
     "output_type": "stream",
     "text": [
      "True\n"
     ]
    }
   ],
   "source": [
    "# Check if a value 200 exists in a dictionary\n",
    "# sampleDict = {'a': 100, 'b': 200, 'c': 300}\n",
    "\n",
    "# Expected Output: True\n",
    "sampleDict = {'a': 100, 'b': 200, 'c': 300}\n",
    "if(200 in sampleDict.values()):\n",
    "    print(True)\n",
    "else:\n",
    "    print(False)"
   ]
  },
  {
   "cell_type": "code",
   "execution_count": 143,
   "id": "2c5c7373",
   "metadata": {},
   "outputs": [
    {
     "name": "stdout",
     "output_type": "stream",
     "text": [
      "{'age': 25, 'city': 'New york'}\n"
     ]
    }
   ],
   "source": [
    "# Delete set of keys from Python Dictionary\n",
    "# sampleDict = {\n",
    "#   \"name\": \"Kelly\",\n",
    "#   \"age\":25,\n",
    "#   \"salary\": 8000,\n",
    "#   \"city\": \"New york\"\n",
    "  \n",
    "# }\n",
    "# keysToRemove = [\"name\", \"salary\"]\n",
    "\n",
    "# Expected Output:\n",
    "# {'city': 'New york', 'age': 25}\n",
    "\n",
    "sampleDict = {\n",
    "   \"name\": \"Kelly\",\n",
    "   \"age\":25,\n",
    "   \"salary\": 8000,\n",
    "   \"city\": \"New york\"\n",
    "  \n",
    " }\n",
    "keysToRemove = [\"name\", \"salary\"]\n",
    "for i in keysToRemove:\n",
    "    sampleDict.pop(i)\n",
    "\n",
    "print(sampleDict)\n",
    "#reverse"
   ]
  },
  {
   "cell_type": "code",
   "execution_count": null,
   "id": "fdc19f25",
   "metadata": {},
   "outputs": [],
   "source": []
  },
  {
   "cell_type": "code",
   "execution_count": null,
   "id": "29ff67bb",
   "metadata": {},
   "outputs": [],
   "source": []
  }
 ],
 "metadata": {
  "kernelspec": {
   "display_name": "Python 3 (ipykernel)",
   "language": "python",
   "name": "python3"
  },
  "language_info": {
   "codemirror_mode": {
    "name": "ipython",
    "version": 3
   },
   "file_extension": ".py",
   "mimetype": "text/x-python",
   "name": "python",
   "nbconvert_exporter": "python",
   "pygments_lexer": "ipython3",
   "version": "3.11.4"
  }
 },
 "nbformat": 4,
 "nbformat_minor": 5
}
