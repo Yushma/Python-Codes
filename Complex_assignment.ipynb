{
 "cells": [
  {
   "cell_type": "code",
   "execution_count": 3,
   "id": "76538f38",
   "metadata": {},
   "outputs": [
    {
     "name": "stdout",
     "output_type": "stream",
     "text": [
      "(10+2j) <class 'complex'>\n",
      "2413757146704\n"
     ]
    }
   ],
   "source": [
    "\"\"\"Q. Declare a complex number and store it in a variable.\n",
    "Check the type and print the id of the same.\"\"\"\n",
    "a = 10+2j\n",
    "print(a, type(a))\n",
    "print(id(a))"
   ]
  },
  {
   "cell_type": "code",
   "execution_count": 7,
   "id": "b7982252",
   "metadata": {},
   "outputs": [
    {
     "name": "stdout",
     "output_type": "stream",
     "text": [
      "Sum of (20+2j) and (10+2j) is (30+4j)\n",
      "difference of (20+2j) and (10+2j) is (10+0j)\n",
      "Product of (20+2j) and (10+2j) is (196+60j)\n",
      "division of (20+2j) and (10+2j) is (1.9615384615384612-0.1923076923076923j)\n",
      "Power of (20+2j) and (10+2j) is (6658370429964.825+5780218352982.595j)\n"
     ]
    }
   ],
   "source": [
    "\"\"\"\n",
    "Q. Arithmetic Operations on complex number\n",
    "Take two different complex numbers.\n",
    "Store them in two different variables.\n",
    "Do below operations on them:-\n",
    "Find sum of both numbers\n",
    "Find difference between them\n",
    "Find the product of both numbers.\n",
    "Find value after dividing first num with second number\n",
    "Find the result of the first num to the power of the second number.\"\"\"\n",
    "a = 20+2j\n",
    "b = 10+2j\n",
    "print(f\"Sum of {a} and {b} is\".format(a,b),a+b)\n",
    "print(f\"difference of {a} and {b} is\".format(a,b),a-b)\n",
    "print(f\"Product of {a} and {b} is\".format(a,b),a*b)\n",
    "print(f\"division of {a} and {b} is\".format(a,b),a/b)\n",
    "print(f\"Power of {a} and {b} is\".format(a,b),a**b)"
   ]
  },
  {
   "cell_type": "code",
   "execution_count": 9,
   "id": "33fceedc",
   "metadata": {},
   "outputs": [
    {
     "name": "stdout",
     "output_type": "stream",
     "text": [
      "2413757138352\n",
      "2413757138128\n",
      "True\n"
     ]
    }
   ],
   "source": [
    "\"\"\"Q. Comparison Operation not applicable between instance of complex values.\n",
    "Object reusability concept is not applicable on complex number\"\"\"\n",
    "a= 10+2j\n",
    "b = 10+2j\n",
    "print(id(a))\n",
    "print(id(b))# both a and b variable values are same but id's are different hence object reusability concept is not applicable"
   ]
  },
  {
   "cell_type": "code",
   "execution_count": 10,
   "id": "a8eb5424",
   "metadata": {},
   "outputs": [
    {
     "name": "stdout",
     "output_type": "stream",
     "text": [
      "False\n",
      "True\n"
     ]
    }
   ],
   "source": [
    "\"\"\"Q. Equality Operator\n",
    "Take two different complex numbers.\n",
    "Store them in two different variables.\n",
    "Equate them using equality operators (==, !=)\n",
    "Observe the output(return type should be boolean)\"\"\"\n",
    "a = 10+3j\n",
    "b = 20 +3j\n",
    "\n",
    "print(a==b)\n",
    "print(a!=b)"
   ]
  },
  {
   "cell_type": "code",
   "execution_count": 11,
   "id": "4518392a",
   "metadata": {},
   "outputs": [
    {
     "name": "stdout",
     "output_type": "stream",
     "text": [
      "(20+30j)\n",
      "0j\n",
      "0j\n",
      "0j\n",
      "(10+20j)\n",
      "(20+30j)\n",
      "(20+30j)\n",
      "0j\n",
      "False\n",
      "True\n"
     ]
    }
   ],
   "source": [
    "\"\"\"Q. Logical operators\n",
    "Observe the output of below code\n",
    "Cross check the output manually\"\"\"\n",
    "print(10+20j and 20+30j) #20+30j \n",
    "#True and True hence >Output is 20+30j\n",
    "print(0+0j and 20+30j) #0+0j\n",
    "#False and True hence ->Output is 0j\n",
    "print(20+30j and 0+0j) #0+0j\n",
    "#True and False->Output is 0j\n",
    "print(0+0j and 0+0j) #0+0j\n",
    "#False and False Hence ->Output is 0j\n",
    "print(10+20j or 20+30j) #10+20j\n",
    "#True or True Hence ->Output is 10+20j\n",
    "print(0+0j or 20+30j) #20+30j\n",
    "#False or True ->Output is 20+30j\n",
    "print(20+30j or 0+0j) #20+30j\n",
    "# True or False hence ->Output is 20+30j\n",
    "print(0+0j or 0+0j) #0+0j\n",
    "# False or False hece ->Output is 0j\n",
    "print(not 10+20j) #False\n",
    "#not(True) is False ->Output is False\n",
    "print(not 0+0j) #True\n",
    "#not(False) is True->Output is True"
   ]
  },
  {
   "cell_type": "code",
   "execution_count": 14,
   "id": "a78c1f8d",
   "metadata": {},
   "outputs": [
    {
     "name": "stdout",
     "output_type": "stream",
     "text": [
      "2413757139376\n",
      "2413757138448\n",
      "False\n",
      "True\n"
     ]
    }
   ],
   "source": [
    "\"\"\"Q. What is the output of the expression inside the print statement.\n",
    "Cross check before running the program.\"\"\"\n",
    "a = 10+20j\n",
    "b = 10+20j\n",
    "print(id(a))\n",
    "print(id(b))\n",
    "print(a is b) #False #True or False?-id's are different\n",
    "print(a is not b) #True #True or False? -id's are same\n",
    "#Ans: Both id's of the variables are different . Object reusability is not applicable to complex datatype"
   ]
  },
  {
   "cell_type": "code",
   "execution_count": 1,
   "id": "e95f3567",
   "metadata": {},
   "outputs": [
    {
     "name": "stdout",
     "output_type": "stream",
     "text": [
      "True\n",
      "True\n",
      "True\n",
      "True\n",
      "True\n",
      "True\n"
     ]
    }
   ],
   "source": [
    "\"\"\"Q. Membership operation\n",
    "in, not in are two membership operators and it returns boolean value\"\"\"\n",
    "print('2.7' in 'Python2.7.8') #True - '2.7' is present in the given string\n",
    "print(10+20j in [10,10.20,10+20j,'Python']) #True- 10+20j present in the given list\n",
    "print(10+20j in (10,10.20,10+20j,'Python')) #True- 10+20j present in the given tuple\n",
    "print(30+40j in {1,20.30,30+40j}) #True- 10+20j present in the given set\n",
    "print(30+40j in {1:100, 2.3:200, 30+40j:300}) #True- 10+20j present in the given dictionary\n",
    "print(10 in range(20)) #True - 10 is present in the range from 0-20"
   ]
  },
  {
   "cell_type": "code",
   "execution_count": null,
   "id": "2398d1c7",
   "metadata": {},
   "outputs": [],
   "source": []
  }
 ],
 "metadata": {
  "kernelspec": {
   "display_name": "Python 3 (ipykernel)",
   "language": "python",
   "name": "python3"
  },
  "language_info": {
   "codemirror_mode": {
    "name": "ipython",
    "version": 3
   },
   "file_extension": ".py",
   "mimetype": "text/x-python",
   "name": "python",
   "nbconvert_exporter": "python",
   "pygments_lexer": "ipython3",
   "version": "3.11.4"
  }
 },
 "nbformat": 4,
 "nbformat_minor": 5
}
