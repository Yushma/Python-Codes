{
 "cells": [
  {
   "cell_type": "code",
   "execution_count": 1,
   "id": "c867bf65",
   "metadata": {},
   "outputs": [
    {
     "name": "stdout",
     "output_type": "stream",
     "text": [
      "True <class 'bool'>\n",
      "<built-in function id>\n"
     ]
    }
   ],
   "source": [
    "\"\"\"Q. Declare a boolean value and store it in a variable.\n",
    "Check the type and print the id of the same.\"\"\"\n",
    "a = True\n",
    "print(a, type(a))\n",
    "print(id)"
   ]
  },
  {
   "cell_type": "code",
   "execution_count": 3,
   "id": "741e0088",
   "metadata": {},
   "outputs": [
    {
     "name": "stdout",
     "output_type": "stream",
     "text": [
      "140724461120032\n",
      "140724461120032\n"
     ]
    }
   ],
   "source": [
    "\"\"\"Q. Take one boolean value between 0 - 256.\n",
    "Assign it to two different variables.\n",
    "Check the id of both the variables. It should come the same. Check why?\"\"\"\n",
    "a= bool(1)\n",
    "b= bool(1)\n",
    "print(id(a))\n",
    "print(id(b))\n",
    "#id's are same because of object reusability"
   ]
  },
  {
   "cell_type": "code",
   "execution_count": 11,
   "id": "89eed11c",
   "metadata": {},
   "outputs": [
    {
     "name": "stdout",
     "output_type": "stream",
     "text": [
      "sum=  True\n",
      "Diff=  True\n",
      "Product=  False\n",
      "Div=  False\n",
      "rem=  False\n",
      "quotient=  0\n",
      "Pow=  False\n"
     ]
    }
   ],
   "source": [
    "\"\"\"Q. Arithmetic Operations on boolean data\n",
    "Take two different boolean values.\n",
    "Store them in two different variables.\n",
    "Do below operations on them:-\n",
    "Find sum of both values\n",
    "Find difference between them\n",
    "Find the product of both.\n",
    "Find value after dividing first value with second value\n",
    "Find the remainder after dividing first value with second value\n",
    "Find the quotient after dividing first value with second value\n",
    "Find the result of first value to the power of second value.\"\"\"\n",
    "a = False\n",
    "b= True\n",
    "print(\"sum= \",bool(a+b))\n",
    "print(\"Diff= \",bool(a-b))\n",
    "print(\"Product= \",bool(a*b))\n",
    "print(\"Div= \",bool(a/b))\n",
    "print(\"rem= \",bool(a%b))\n",
    "print(\"quotient= \",bool(a//b))\n",
    "print(\"Pow= \",bool(a**b))"
   ]
  },
  {
   "cell_type": "code",
   "execution_count": 14,
   "id": "1f368809",
   "metadata": {},
   "outputs": [
    {
     "name": "stdout",
     "output_type": "stream",
     "text": [
      "Greater than - True\n",
      "Less than-  False\n",
      "Greater than or equall to-  True\n",
      "Less than or equall to-  False\n"
     ]
    }
   ],
   "source": [
    "\"\"\"Q. Comparison Operators on boolean values\n",
    "Take two different boolean values.\n",
    "Store them in two different variables.\n",
    "Do below operations on them:-\n",
    "Compare these two values with below operator:-\n",
    "Greater than, '>'\n",
    "less than, '<'\n",
    "Greater than or equal to, '>='\n",
    "Less than or equal to, '<='\n",
    "Observe their output(return type should be boolean)\"\"\"\n",
    "a= True\n",
    "b= False\n",
    "print(\"Greater than -\", a>b)\n",
    "print(\"Less than- \", a<b)\n",
    "print(\"Greater than or equall to- \", a>=b)\n",
    "print(\"Less than or equall to- \", a<=b)"
   ]
  },
  {
   "cell_type": "code",
   "execution_count": 15,
   "id": "016282dd",
   "metadata": {},
   "outputs": [
    {
     "name": "stdout",
     "output_type": "stream",
     "text": [
      "False\n",
      "True\n"
     ]
    }
   ],
   "source": [
    "\"\"\"\n",
    "Q. Equality Operator\n",
    "Take two different boolean values.\n",
    "Store them in two different variables.\n",
    "Equate them using equality operators (==, !=)\n",
    "Observe the output(return type should be boolean)\n",
    "\"\"\"\n",
    "a= True\n",
    "b= False\n",
    "print(a==b)\n",
    "print(a!=b)"
   ]
  },
  {
   "cell_type": "code",
   "execution_count": null,
   "id": "39634075",
   "metadata": {},
   "outputs": [],
   "source": [
    "\"\"\"Q. Logical operators\n",
    "Observe the output of below code\n",
    "Cross check the output manually\"\"\"\n",
    "print(True and True)\n",
    "#1 and 1-1>Output is True\n",
    "\n",
    "print(False and True)\n",
    "#0 and 1-0>Output is False\n",
    "print(True and False)\n",
    "#1 and 0-0>Output is False\n",
    "print(False and False)\n",
    "#0 and 0- 0>Output is False\n",
    "print(True or True)\n",
    "#1 or 1- 1>Output is True\n",
    "print(False or True)\n",
    "#0 or 1- 1>Output is True\n",
    "print(True or False)\n",
    "#1 or 0- 1>Output is True\n",
    "print(False or False)\n",
    "#0 or 0- 0>Output is False\n",
    "print(not True)\n",
    "#not(1)-0>Output is False\n",
    "print(not False)\n",
    "#not(0)-1>Output is True"
   ]
  },
  {
   "cell_type": "code",
   "execution_count": 23,
   "id": "1dfca7d4",
   "metadata": {},
   "outputs": [
    {
     "name": "stdout",
     "output_type": "stream",
     "text": [
      "True\n",
      "True\n",
      "True\n",
      "-2\n",
      "4\n",
      "1\n"
     ]
    }
   ],
   "source": [
    "\"\"\"Q. Bitwise Operators\n",
    "Do below operations on the values provided below:-\"\"\"\n",
    "#Bitwise and(&) --------------> True, True -------> Output is True\n",
    "print(bool(1&1))\n",
    "#Bitwise or(|) --------------> True, False -------> Output is True\n",
    "print(bool(1|0))\n",
    "#Bitwise(^) --------------> True, False -------> Output is True\n",
    "print(bool(1^0))\n",
    "#Bitwise negation(~) ---------> True -------> Output is -2\n",
    "print(~1)\n",
    "#Bitwise left shift ---------> True,2 -------> Output is 4\n",
    "print(1<<2)\n",
    "#Bitwise right shift ---------> True,2 -------> Output is 0\n",
    "print(2>>1)\n",
    "#Cross check the output manually\"\"\""
   ]
  },
  {
   "cell_type": "code",
   "execution_count": 24,
   "id": "de10e33e",
   "metadata": {},
   "outputs": [
    {
     "name": "stdout",
     "output_type": "stream",
     "text": [
      "True\n",
      "False\n",
      "True\n",
      "False\n"
     ]
    }
   ],
   "source": [
    "\"\"\"Q. What is the output of expression inside the print statement. Cross\n",
    "check before running the program.\"\"\"\n",
    "a = True\n",
    "b = True\n",
    "print(a is b) #True or False? #output-True\n",
    "\n",
    "print(a is not b) #True or False?#output-False\n",
    "a = False\n",
    "b = False\n",
    "print(a is b) #True or False?#output-True\n",
    "print(a is not b) #True or False?#output-False"
   ]
  },
  {
   "cell_type": "code",
   "execution_count": 25,
   "id": "e20653e1",
   "metadata": {},
   "outputs": [
    {
     "name": "stdout",
     "output_type": "stream",
     "text": [
      "True\n",
      "True\n",
      "True\n",
      "True\n",
      "True\n"
     ]
    }
   ],
   "source": [
    "\"\"\"Q. Membership operation\n",
    "in, not in are two membership operators and it returns boolean value\"\"\"\n",
    "print(True in [10,10.20,10+20j,'Python', True])# True is present in the given list- output- True\n",
    "print(False in (10,10.20,10+20j,'Python', False))# False is present in the given tuple- output- True\n",
    "print(True in {1,2,3, True})#- True is present in the given set- - output- True\n",
    "print(True in {True:100, False:200, True:300})#True is present in the given Dictionary- output- True\n",
    "print(False in {True:100, False:200, True:300})#False is present in the given dictionary- output- True"
   ]
  },
  {
   "cell_type": "code",
   "execution_count": null,
   "id": "13d98139",
   "metadata": {},
   "outputs": [],
   "source": []
  }
 ],
 "metadata": {
  "kernelspec": {
   "display_name": "Python 3 (ipykernel)",
   "language": "python",
   "name": "python3"
  },
  "language_info": {
   "codemirror_mode": {
    "name": "ipython",
    "version": 3
   },
   "file_extension": ".py",
   "mimetype": "text/x-python",
   "name": "python",
   "nbconvert_exporter": "python",
   "pygments_lexer": "ipython3",
   "version": "3.11.4"
  }
 },
 "nbformat": 4,
 "nbformat_minor": 5
}
