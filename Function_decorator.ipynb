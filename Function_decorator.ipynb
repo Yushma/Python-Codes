{
 "cells": [
  {
   "cell_type": "code",
   "execution_count": null,
   "id": "5b8b3f3f",
   "metadata": {},
   "outputs": [],
   "source": [
    "def decorator(f):\n",
    "    def wrapper(parameter):\n",
    "        code\n",
    "        code\n",
    "    return wrapper"
   ]
  },
  {
   "cell_type": "code",
   "execution_count": 2,
   "id": "34f2cf74",
   "metadata": {},
   "outputs": [],
   "source": [
    "def decorator(f):\n",
    "    def wrapper(name):\n",
    "        s= f(name)\n",
    "        return 'I am'+ s\n",
    "        \n",
    "    return wrapper"
   ]
  },
  {
   "cell_type": "code",
   "execution_count": 3,
   "id": "d96fa0ed",
   "metadata": {},
   "outputs": [
    {
     "ename": "NameError",
     "evalue": "name 'name_decorator' is not defined",
     "output_type": "error",
     "traceback": [
      "\u001b[1;31m---------------------------------------------------------------------------\u001b[0m",
      "\u001b[1;31mNameError\u001b[0m                                 Traceback (most recent call last)",
      "Cell \u001b[1;32mIn[3], line 1\u001b[0m\n\u001b[1;32m----> 1\u001b[0m x \u001b[38;5;241m=\u001b[39m  name_decorator(my_name)\n\u001b[0;32m      2\u001b[0m \u001b[38;5;28mprint\u001b[39m(x)\n",
      "\u001b[1;31mNameError\u001b[0m: name 'name_decorator' is not defined"
     ]
    }
   ],
   "source": [
    "x =  name_decorator(my_name)\n",
    "print(x)"
   ]
  },
  {
   "cell_type": "code",
   "execution_count": 4,
   "id": "426fff85",
   "metadata": {},
   "outputs": [
    {
     "ename": "NameError",
     "evalue": "name 'x' is not defined",
     "output_type": "error",
     "traceback": [
      "\u001b[1;31m---------------------------------------------------------------------------\u001b[0m",
      "\u001b[1;31mNameError\u001b[0m                                 Traceback (most recent call last)",
      "Cell \u001b[1;32mIn[4], line 1\u001b[0m\n\u001b[1;32m----> 1\u001b[0m x(\u001b[38;5;124m'\u001b[39m\u001b[38;5;124makshay\u001b[39m\u001b[38;5;124m'\u001b[39m)\n",
      "\u001b[1;31mNameError\u001b[0m: name 'x' is not defined"
     ]
    }
   ],
   "source": [
    "x('akshay')"
   ]
  },
  {
   "cell_type": "code",
   "execution_count": 5,
   "id": "8ab63352",
   "metadata": {},
   "outputs": [
    {
     "ename": "SyntaxError",
     "evalue": "expected ':' (1487721780.py, line 5)",
     "output_type": "error",
     "traceback": [
      "\u001b[1;36m  Cell \u001b[1;32mIn[5], line 5\u001b[1;36m\u001b[0m\n\u001b[1;33m    else y>x and x!=0:\u001b[0m\n\u001b[1;37m         ^\u001b[0m\n\u001b[1;31mSyntaxError\u001b[0m\u001b[1;31m:\u001b[0m expected ':'\n"
     ]
    }
   ],
   "source": [
    "def div_decorator(f):\n",
    "    def wrapper(x,y):\n",
    "        if x>y and y!=0:\n",
    "            return f(x,y)\n",
    "        else y>x and x!=0:\n",
    "            return f(x,y)\n",
    "        else: \n",
    "            return 'I am '+s\n",
    "        \n",
    "    return wrapper"
   ]
  },
  {
   "cell_type": "code",
   "execution_count": 7,
   "id": "200aa21a",
   "metadata": {},
   "outputs": [
    {
     "ename": "NameError",
     "evalue": "name 'div_decorator' is not defined",
     "output_type": "error",
     "traceback": [
      "\u001b[1;31m---------------------------------------------------------------------------\u001b[0m",
      "\u001b[1;31mNameError\u001b[0m                                 Traceback (most recent call last)",
      "Cell \u001b[1;32mIn[7], line 1\u001b[0m\n\u001b[1;32m----> 1\u001b[0m s \u001b[38;5;241m=\u001b[39m div_decorator(division)\n\u001b[0;32m      2\u001b[0m s(\u001b[38;5;241m5\u001b[39m,\u001b[38;5;241m2\u001b[39m)\n",
      "\u001b[1;31mNameError\u001b[0m: name 'div_decorator' is not defined"
     ]
    }
   ],
   "source": [
    "s = div_decorator(division)\n",
    "s(5,2)"
   ]
  },
  {
   "cell_type": "code",
   "execution_count": null,
   "id": "63422123",
   "metadata": {},
   "outputs": [],
   "source": [
    "#used in class functipons or static methods"
   ]
  },
  {
   "cell_type": "markdown",
   "id": "4b8757db",
   "metadata": {},
   "source": [
    "Lambda function"
   ]
  },
  {
   "cell_type": "code",
   "execution_count": null,
   "id": "d130ff71",
   "metadata": {},
   "outputs": [],
   "source": [
    "- It is known as anonymous function\n",
    "-It is a simple way of writing a function\n",
    "-using lambda we can we can write the function defination in a single line"
   ]
  },
  {
   "cell_type": "markdown",
   "id": "889995d7",
   "metadata": {},
   "source": [
    "# syntax"
   ]
  },
  {
   "cell_type": "code",
   "execution_count": null,
   "id": "d7a95662",
   "metadata": {},
   "outputs": [],
   "source": [
    "lambda arguments:opeation"
   ]
  },
  {
   "cell_type": "markdown",
   "id": "0ef2eb8a",
   "metadata": {},
   "source": [
    "# calling lambda "
   ]
  },
  {
   "cell_type": "code",
   "execution_count": null,
   "id": "92513c20",
   "metadata": {},
   "outputs": [],
   "source": [
    "lambda arguments:opeation#defination(arguments)#call"
   ]
  },
  {
   "cell_type": "code",
   "execution_count": 8,
   "id": "0bc6be0d",
   "metadata": {},
   "outputs": [
    {
     "data": {
      "text/plain": [
       "10"
      ]
     },
     "execution_count": 8,
     "metadata": {},
     "output_type": "execute_result"
    }
   ],
   "source": [
    "#create an anonymous func that addds 2 numbers\n",
    "(lambda a,b:a+b)(4,6)"
   ]
  },
  {
   "cell_type": "code",
   "execution_count": 9,
   "id": "10530efd",
   "metadata": {},
   "outputs": [],
   "source": [
    "add = lambda x,y:x+y#function aliasing\n",
    "mult = lambda x,y:x*y\n",
    "div = lambda x,y:x/y"
   ]
  },
  {
   "cell_type": "code",
   "execution_count": 10,
   "id": "fd8e81e6",
   "metadata": {},
   "outputs": [
    {
     "data": {
      "text/plain": [
       "9"
      ]
     },
     "execution_count": 10,
     "metadata": {},
     "output_type": "execute_result"
    }
   ],
   "source": [
    "add(5,4)#function call"
   ]
  },
  {
   "cell_type": "code",
   "execution_count": 11,
   "id": "0b222945",
   "metadata": {},
   "outputs": [
    {
     "data": {
      "text/plain": [
       "1.25"
      ]
     },
     "execution_count": 11,
     "metadata": {},
     "output_type": "execute_result"
    }
   ],
   "source": [
    "div(5,4)"
   ]
  },
  {
   "cell_type": "markdown",
   "id": "3044d9ff",
   "metadata": {},
   "source": [
    "# condition in a lambda fiunction"
   ]
  },
  {
   "cell_type": "code",
   "execution_count": null,
   "id": "86c97116",
   "metadata": {},
   "outputs": [],
   "source": [
    "- It is always passed in the form of the ternory operator"
   ]
  },
  {
   "cell_type": "code",
   "execution_count": 13,
   "id": "b632ee3b",
   "metadata": {},
   "outputs": [
    {
     "data": {
      "text/plain": [
       "20"
      ]
     },
     "execution_count": 13,
     "metadata": {},
     "output_type": "execute_result"
    }
   ],
   "source": [
    "#create a lambda function that returns the maximum of two numbers\n",
    "(lambda x,y:x if x>y else y) (20,5)"
   ]
  },
  {
   "cell_type": "code",
   "execution_count": 14,
   "id": "27c56e00",
   "metadata": {},
   "outputs": [
    {
     "data": {
      "text/plain": [
       "111"
      ]
     },
     "execution_count": 14,
     "metadata": {},
     "output_type": "execute_result"
    }
   ],
   "source": [
    "a= 5\n",
    "b=30\n",
    "c=111\n",
    "(lambda a,b,c:a if a>b and a>c else b if b>a and b>c else c)(a,b,c)"
   ]
  },
  {
   "cell_type": "markdown",
   "id": "540199c5",
   "metadata": {},
   "source": [
    "# we can pass different kind of arguments"
   ]
  },
  {
   "cell_type": "code",
   "execution_count": 15,
   "id": "749a659f",
   "metadata": {},
   "outputs": [
    {
     "name": "stdout",
     "output_type": "stream",
     "text": [
      "(1, 5, 6, 7)\n"
     ]
    }
   ],
   "source": [
    "(lambda *x:print(x))(1,5,6,7)"
   ]
  },
  {
   "cell_type": "code",
   "execution_count": 17,
   "id": "0ec691d4",
   "metadata": {},
   "outputs": [
    {
     "data": {
      "text/plain": [
       "{'name': 'vishal', 'age': 25}"
      ]
     },
     "execution_count": 17,
     "metadata": {},
     "output_type": "execute_result"
    }
   ],
   "source": [
    "(lambda **x:x)(name='vishal',age=25)"
   ]
  },
  {
   "cell_type": "code",
   "execution_count": null,
   "id": "044b4b5a",
   "metadata": {},
   "outputs": [],
   "source": [
    "def dummy(**x):\n",
    "    return x\n",
    "dummy(name='abhishek', age=26)"
   ]
  },
  {
   "cell_type": "code",
   "execution_count": null,
   "id": "38dfab5a",
   "metadata": {},
   "outputs": [],
   "source": [
    "#recurseive func\n",
    "the function calls itself is a recursive function"
   ]
  },
  {
   "cell_type": "code",
   "execution_count": 18,
   "id": "f8bf7d9e",
   "metadata": {},
   "outputs": [],
   "source": [
    "def rec():\n",
    "    print('Hello')\n",
    "    return rec()"
   ]
  },
  {
   "cell_type": "code",
   "execution_count": null,
   "id": "c45260be",
   "metadata": {},
   "outputs": [],
   "source": [
    "rec()"
   ]
  },
  {
   "cell_type": "markdown",
   "id": "0b78cd1a",
   "metadata": {},
   "source": [
    "# filter"
   ]
  },
  {
   "cell_type": "code",
   "execution_count": 20,
   "id": "e66ce03a",
   "metadata": {},
   "outputs": [
    {
     "data": {
      "text/plain": [
       "['ambika', 'chandrashgekhar', 'akhilesh']"
      ]
     },
     "execution_count": 20,
     "metadata": {},
     "output_type": "execute_result"
    }
   ],
   "source": [
    "name =['priti','ebi','ambika','chandrashgekhar','akhilesh']\n",
    "list(filter(lambda x:len(x)>5,name))"
   ]
  },
  {
   "cell_type": "markdown",
   "id": "e9a379f9",
   "metadata": {},
   "source": [
    "# iterator objects"
   ]
  },
  {
   "cell_type": "code",
   "execution_count": null,
   "id": "1f6f1c48",
   "metadata": {},
   "outputs": [],
   "source": [
    "-map.filter,zip and enumerate"
   ]
  },
  {
   "cell_type": "code",
   "execution_count": null,
   "id": "d87b3d8d",
   "metadata": {},
   "outputs": [],
   "source": [
    "How to fetch the elements firm the iterator objects\n",
    "-type case them in to list,tuple,set or frozenset\n",
    "- apply for loop on that"
   ]
  },
  {
   "cell_type": "markdown",
   "id": "c956d64f",
   "metadata": {},
   "source": [
    "# Regex"
   ]
  },
  {
   "cell_type": "code",
   "execution_count": null,
   "id": "64ed1b98",
   "metadata": {},
   "outputs": [],
   "source": [
    "- It stands for regular expression"
   ]
  }
 ],
 "metadata": {
  "kernelspec": {
   "display_name": "Python 3 (ipykernel)",
   "language": "python",
   "name": "python3"
  },
  "language_info": {
   "codemirror_mode": {
    "name": "ipython",
    "version": 3
   },
   "file_extension": ".py",
   "mimetype": "text/x-python",
   "name": "python",
   "nbconvert_exporter": "python",
   "pygments_lexer": "ipython3",
   "version": "3.11.4"
  }
 },
 "nbformat": 4,
 "nbformat_minor": 5
}
