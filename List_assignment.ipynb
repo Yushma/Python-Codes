{
 "cells": [
  {
   "cell_type": "code",
   "execution_count": 2,
   "id": "67ceb73c",
   "metadata": {},
   "outputs": [
    {
     "name": "stdout",
     "output_type": "stream",
     "text": [
      "sum = 100\n"
     ]
    }
   ],
   "source": [
    "#Write a Python program to find the sum of all elements in a list using loop.\n",
    "#Input:- [10,20,30,40]\n",
    "#Output:- 100\n",
    "l = [10,20,30,40]\n",
    "sum = 0\n",
    "for i in l:\n",
    "    sum = sum+i\n",
    "print(f\"sum = {sum}\".format(sum))\n",
    "    "
   ]
  },
  {
   "cell_type": "code",
   "execution_count": 3,
   "id": "e9bf1134",
   "metadata": {},
   "outputs": [
    {
     "name": "stdout",
     "output_type": "stream",
     "text": [
      "product= 240000\n"
     ]
    }
   ],
   "source": [
    "#Write a Python program to find the multiplication of all elements in a list using loop.\n",
    "#Input:- [10,20,30,40]\n",
    "#Output:- 240000\n",
    "l = [10,20,30,40]\n",
    "product = 1\n",
    "for i in l:\n",
    "    product = product*i\n",
    "print(f\"product= {product}\".format(product))"
   ]
  },
  {
   "cell_type": "code",
   "execution_count": 5,
   "id": "5c3ffa49",
   "metadata": {},
   "outputs": [
    {
     "name": "stdout",
     "output_type": "stream",
     "text": [
      "largest element in the given above list = 2321\n"
     ]
    }
   ],
   "source": [
    "#Write a Python program to find the largest number from a list using loop.\n",
    "#Input:- [10,100,2321, 1,200,2]\n",
    "#Output:- 2321\n",
    "l = [10,100,2321, 1,200,2]\n",
    "max = l[0]\n",
    "for i in l:\n",
    "    if(max <i):\n",
    "        max = i\n",
    "print(f\"largest element in the given above list = {max}\".format(max))\n",
    "        "
   ]
  },
  {
   "cell_type": "code",
   "execution_count": 26,
   "id": "d0a39628",
   "metadata": {},
   "outputs": [
    {
     "name": "stdout",
     "output_type": "stream",
     "text": [
      "The smallest number from above list = 1\n"
     ]
    }
   ],
   "source": [
    "#Write a Python program to find the smallest number from a list using loop.\n",
    "#Input:- [10,100,2321, 1,200,2]\n",
    "#Output:- 1\n",
    "l = [10,100,2321, 1,200,2]\n",
    "min = l[0]\n",
    "for i in l:\n",
    "    if(min>i):\n",
    "        min = i\n",
    "print(f\"The smallest number from above list = {min}\".format(min))\n"
   ]
  },
  {
   "cell_type": "code",
   "execution_count": 27,
   "id": "e2404a67",
   "metadata": {},
   "outputs": [
    {
     "name": "stdout",
     "output_type": "stream",
     "text": [
      "The number of strings having length more than 2 and are palindrome in a list = 2\n"
     ]
    }
   ],
   "source": [
    "#Write a Python program to count the number of strings having length more than 2 and are palindrome in a list using loop.\n",
    "#Input:- ['ab', 'abc', 'aba', 'xyz', '1991']\n",
    "#Output:- 2\n",
    "l = ['ab', 'abc', 'aba', 'xyz', '1991']\n",
    "count = 0\n",
    "for i in l:\n",
    "    if(len(i)>2 and i==i[::-1]):\n",
    "        count = count+1\n",
    "print(f\"The number of strings having length more than 2 and are palindrome in a list = {count}\".format(count))\n"
   ]
  },
  {
   "cell_type": "code",
   "execution_count": 83,
   "id": "bcd64251",
   "metadata": {},
   "outputs": [
    {
     "name": "stdout",
     "output_type": "stream",
     "text": [
      "[1, 2, 9, 10, 65, 80, 100, 298, 483, 9213, 49876]\n"
     ]
    }
   ],
   "source": [
    "#Write a Python program to sort a list in ascending order using loop.\n",
    "#Input:- [100,10,1,298,65,483,49876,2,80,9,9213]\n",
    "#Output:- [1,2,9,10,65,80,100,298,483,9213,49876]\n",
    "l = [100,10,1,298,65,483,49876,2,80,9,9213]\n",
    "temp =0\n",
    "\n",
    "for i in range(0, len(l)):  \n",
    "    for j in range(i+1, len(l)):  \n",
    "        if(l[i] > l[j]):    \n",
    "            temp = l[i];    \n",
    "            l[i] = l[j];    \n",
    "            l[j] = temp;    \n",
    "print(l)"
   ]
  },
  {
   "cell_type": "code",
   "execution_count": 10,
   "id": "f86c23e2",
   "metadata": {},
   "outputs": [
    {
     "name": "stdout",
     "output_type": "stream",
     "text": [
      "[(9, 1), (2, 3), (5, 4), (5, 5), (7, 6), (5, 9)]\n"
     ]
    }
   ],
   "source": [
    "#Write a Python program to get a sorted list in increasing order of last element in each tuple in a given list using loop.\n",
    "#Input:- [(5,4),(9,1),(2,3),(5,9),(7,6),(5,5)]\n",
    "#output:- [(9,1),(2,3),(5,4),(5,5),(7,6),(5,9)]\n",
    "\n",
    "l = [(5,4),(9,1),(2,3),(5,9),(7,6),(5,5)]\n",
    "lst = len(l) \n",
    "for i in range(0, lst): \n",
    "    for j in range(0, lst-i-1): \n",
    "        if (l[j][-1] > l[j + 1][-1]): \n",
    "            temp = l[j] \n",
    "            l[j]= l[j + 1] \n",
    "            l[j + 1]= temp \n",
    "print(l) \n"
   ]
  },
  {
   "cell_type": "code",
   "execution_count": 91,
   "id": "f5a7b027",
   "metadata": {},
   "outputs": [
    {
     "name": "stdout",
     "output_type": "stream",
     "text": [
      "[10, 1, 11, 29, 876, 768, 92]\n"
     ]
    }
   ],
   "source": [
    "#Write a Python program to remove fuplicate element from a list using loop.\n",
    "#Input:- [10,1,11,1,29,876,768,10,11,1,92,29,876]\n",
    "#Output:- [10,1,11,29,876,768,92]\n",
    "l = [10,1,11,1,29,876,768,10,11,1,92,29,876]\n",
    "temp = 0\n",
    "\n",
    "for i in range(0,len(l)):\n",
    "    for j in range(i+1,len(l)):\n",
    "        if(l[i]==l[j] and l[i]!=-1):\n",
    "            temp = temp+1\n",
    "            l[j]= -1\n",
    "#print(l.count(-1))\n",
    "for i in range (0,l.count(-1)):\n",
    "    l.remove(-1)\n",
    "print(l)"
   ]
  },
  {
   "cell_type": "code",
   "execution_count": 45,
   "id": "e56625e0",
   "metadata": {},
   "outputs": [
    {
     "name": "stdout",
     "output_type": "stream",
     "text": [
      "List is empty\n",
      "List is not empty\n"
     ]
    }
   ],
   "source": [
    "#Write a Python program to check a list is empty or not?\n",
    "#Input:- []\n",
    "#Output:- List is empty\n",
    "#Input:- [10,20,30]\n",
    "#Output:- List is not empty\n",
    "l1 = []\n",
    "if(len(l1)<=0):\n",
    "    print(\"List is empty\")\n",
    "l2 = [10,20,30]\n",
    "if(len(l2)>0):\n",
    "    print(\"List is not empty\")"
   ]
  },
  {
   "cell_type": "code",
   "execution_count": 20,
   "id": "4a92a51d",
   "metadata": {},
   "outputs": [
    {
     "name": "stdout",
     "output_type": "stream",
     "text": [
      "[10, 10.2, (10+20j), 'Python', [10, 20], (10, 20)]\n",
      "************Using list comprehension**************\n",
      "[10, 10.2, (10+20j), 'Python', [10, 20], (10, 20)]\n"
     ]
    }
   ],
   "source": [
    "#Write a Python program to copy a list using loop.\n",
    "#inp_lst = [10,10.20,10+20j, 'Python', [10,20], (10,20)]\n",
    "#out_lst = [10,10.20,10+20j, 'Python', [10,20], (10,20)]\n",
    "\n",
    "inp_lst = [10,10.20,10+20j, 'Python', [10,20], (10,20)]\n",
    "out_lst = []\n",
    "for i in inp_lst:\n",
    "    out_lst.append(i)\n",
    "print(out_lst)\n",
    "print(\"************Using list comprehension**************\")\n",
    "out_lst1 = []\n",
    "[out_lst1.append(i) for i in inp_lst]\n",
    "print(out_lst1)"
   ]
  },
  {
   "cell_type": "code",
   "execution_count": 101,
   "id": "d57ed926",
   "metadata": {},
   "outputs": [
    {
     "name": "stdout",
     "output_type": "stream",
     "text": [
      "['much', 'wood', 'would', 'woodchuck', 'chuck', 'could']\n"
     ]
    }
   ],
   "source": [
    "#Write a Python program to find the list of words that are longer than or equal to 4 from a given string.\n",
    "#Input:- 'How much wood would a woodchuck chuck if a woodchuck could chuck wood'\n",
    "#Output:- ['much', 'wood', 'would', 'woodchuck', 'chuck', 'could']\n",
    "#Note:- Duplicate should be avoided.\n",
    "\n",
    "str1 ='How much wood would a woodchuck chuck if a woodchuck could chuck wood'\n",
    "l1 = str1.split(' ')\n",
    "out_list =[]\n",
    "for i in l1:\n",
    "    if(len(i)>=4):\n",
    "        out_list.append(i)\n",
    "        \n",
    "for i in range(0,len(out_list)):\n",
    "    for j in range(i+1,len(out_list)):\n",
    "        if(out_list[i]==out_list[j]):\n",
    "            out_list[j] =-1\n",
    "\n",
    "for i in range(0,out_list.count(-1)):\n",
    "    out_list.remove(-1)\n",
    "    \n",
    "print(out_list)    "
   ]
  },
  {
   "cell_type": "code",
   "execution_count": 17,
   "id": "355349c5",
   "metadata": {},
   "outputs": [
    {
     "name": "stdout",
     "output_type": "stream",
     "text": [
      "True\n"
     ]
    }
   ],
   "source": [
    "#Write a Python program which takes two list as input and returns True if they have at least 3 common elements.\n",
    "#inp_lst1 = [10,20,'Python', 10.20, 10+20j, [10,20,30], (10,20,30)]\n",
    "#inp_lst2 = [(10,20,30),1,20+3j,100.2, 10+20j, [10,20,30],'Python']\n",
    "#Output:- True\n",
    "inp_lst1 = [10,20,'Python', 10.20, 10+20j, [10,20,30], (10,20,30)]\n",
    "inp_lst2 = [(10,20,30),1,20+3j,100.2, 10+20j, [10,20,30],'Python']\n",
    "count = 0\n",
    "for i in range(0,len(inp_lst1)):\n",
    "    if(inp_lst1[i] in inp_lst2):\n",
    "        count = count+1\n",
    "if(count >=3):\n",
    "    print(\"True\")"
   ]
  },
  {
   "cell_type": "code",
   "execution_count": 16,
   "id": "7446364e",
   "metadata": {
    "scrolled": true
   },
   "outputs": [
    {
     "name": "stdout",
     "output_type": "stream",
     "text": [
      "[[0, 0, 0, 0], [0, 1, 2, 3], [0, 2, 4, 6], [0, 3, 6, 9]]\n",
      "*******************List comprehension****************\n"
     ]
    }
   ],
   "source": [
    "#Write a Python program to create a 4X4 2D matrix with below elements using loop and list comprehension both.\n",
    "#Output:- [[0,0,0,0],[0,1,2,3],[0,2,4,6],[0,3,6,9]]\n",
    "new_list = []\n",
    "\n",
    "for i in range(0,4):\n",
    "    new_list.append([])\n",
    "    for j in range(0,4):\n",
    "       new_list[i].append(i*j)\n",
    "        \n",
    "print(new_list)\n",
    "print(\"*******************List comprehension****************\")\n",
    "#Here there are 2 for loops hence we can't use list comprehension"
   ]
  },
  {
   "cell_type": "code",
   "execution_count": 10,
   "id": "37c45a14",
   "metadata": {},
   "outputs": [
    {
     "name": "stdout",
     "output_type": "stream",
     "text": [
      "[[[0, 0, 0, 0, 0, 0], [0, 0, 0, 0, 0, 0], [0, 0, 0, 0, 0, 0], [0, 0, 0, 0, 0, 0]], [[0, 0, 0, 0, 0, 0], [1, 1, 1, 1, 1, 1], [2, 2, 2, 2, 2, 2], [3, 3, 3, 3, 3, 3]], [[0, 0, 0, 0, 0, 0], [2, 2, 2, 2, 2, 2], [4, 4, 4, 4, 4, 4], [6, 6, 6, 6, 6, 6]]]\n"
     ]
    }
   ],
   "source": [
    "#Write a Python program to create a 3X4X6 3D matrix wiith below elements using loop\n",
    "#Output:- \n",
    "# [\n",
    "#     [[0,0,0,0,0,0],[0,0,0,0,0,0],[0,0,0,0,0,0],[0,0,0,0,0,0]],\n",
    "#     [[0,0,0,0,0,0],[1,1,1,1,1,1],[2,2,2,2,2,2],[3,3,3,3,3,3]],\n",
    "#     [[0,0,0,0,0,0],[2,2,2,2,2,2],[4,4,4,4,4,4],[6,6,6,6,6,6]]\n",
    "# ]\n",
    "\n",
    "new_list = []\n",
    "for i in range(0,3):\n",
    "    new_list.append([])\n",
    "    for j in range(0,4):\n",
    "        new_list[i].append([])\n",
    "        for k in range(0,6):\n",
    "            new_list[i][j].append(i*j)\n",
    "print(new_list)"
   ]
  },
  {
   "cell_type": "code",
   "execution_count": 8,
   "id": "4181d477",
   "metadata": {},
   "outputs": [
    {
     "name": "stdout",
     "output_type": "stream",
     "text": [
      "[21, 87, 45, 33, 1]\n"
     ]
    }
   ],
   "source": [
    "#Write a Python program which takes a list of numbers as input and prints a new list after removing even numbers from it.\n",
    "#Input:- [10,21,22,98,87,45,33,1,2,100]\n",
    "#Output:- [21,87,45,33,1]\n",
    "l1 = [10,21,22,98,87,45,33,1,2,100]\n",
    "k=0\n",
    "for i in l1[::1]:\n",
    "    if(i%2==0):\n",
    "        k = i\n",
    "        l1.remove(i)\n",
    "        \n",
    "print(l1)"
   ]
  },
  {
   "cell_type": "code",
   "execution_count": 10,
   "id": "d681c90f",
   "metadata": {},
   "outputs": [
    {
     "name": "stdout",
     "output_type": "stream",
     "text": [
      "Please enter a list[10,21,22,98,87,45,33,1,2,100]\n",
      "Before shuffling\n",
      "[10, 21, 22, 98, 87, 45, 33, 1, 2, 100]\n",
      "[87, 45, 10, 1, 2, 21, 98, 33, 100, 22]\n"
     ]
    }
   ],
   "source": [
    "#Write a Python program which takes a list from the user and prints it after reshuffling the elements of the list.\n",
    "#Input:- [10,21,22,98,87,45,33,1,2,100]\n",
    "#Output:- [1,87,21,10,33,2,100,45,98,22] (It may be any randon list but with same elements)\n",
    "import random\n",
    "l = eval(input(\"Please enter a list\"))\n",
    "print(\"Before shuffling\")\n",
    "print(l)\n",
    "random.shuffle(l)\n",
    "print(l)"
   ]
  },
  {
   "cell_type": "code",
   "execution_count": null,
   "id": "c276b55e",
   "metadata": {},
   "outputs": [],
   "source": []
  }
 ],
 "metadata": {
  "kernelspec": {
   "display_name": "Python 3 (ipykernel)",
   "language": "python",
   "name": "python3"
  },
  "language_info": {
   "codemirror_mode": {
    "name": "ipython",
    "version": 3
   },
   "file_extension": ".py",
   "mimetype": "text/x-python",
   "name": "python",
   "nbconvert_exporter": "python",
   "pygments_lexer": "ipython3",
   "version": "3.11.4"
  }
 },
 "nbformat": 4,
 "nbformat_minor": 5
}
