{
 "cells": [
  {
   "cell_type": "code",
   "execution_count": 4,
   "id": "482507af",
   "metadata": {},
   "outputs": [
    {
     "name": "stdout",
     "output_type": "stream",
     "text": [
      "Please enter any number from 0-9 12\n",
      "Number is outside of the range\n"
     ]
    }
   ],
   "source": [
    "#W. A P. which takes one number from 0 to 9 from the user and prints it in the word. And if the word is not from 0 to 9 then\n",
    "#it should print that number is outside of the range and program should exit.\n",
    "# For exapmple:- \n",
    "# input = 1\n",
    "# output = one\n",
    "\n",
    "num = int(input(\"Please enter any number from 0-9 \"))\n",
    "if(num == 1):\n",
    "    print(\"one\")\n",
    "elif(num == 2):\n",
    "    print(\"two\")\n",
    "elif(num == 3):\n",
    "    print(\"three\")\n",
    "elif(num == 4):\n",
    "    print(\"four\")\n",
    "elif(num == 5):\n",
    "    print(\"five\")\n",
    "elif(num == 6):\n",
    "    print(\"six\")\n",
    "elif(num == 7):\n",
    "    print(\"seven\")\n",
    "elif(num == 8):\n",
    "    print(\"eight\")\n",
    "elif(num == 9):\n",
    "    print(\"nine\")\n",
    "else:\n",
    "    print(\"Number is outside of the range\")"
   ]
  },
  {
   "cell_type": "code",
   "execution_count": 13,
   "id": "7ef2226e",
   "metadata": {},
   "outputs": [
    {
     "name": "stdout",
     "output_type": "stream",
     "text": [
      "Enter any number 20\n",
      "Enter another number 10\n",
      "Select any operation 9\n"
     ]
    }
   ],
   "source": [
    "#W. A P. to implement calculator but the operation to be done and two numbers will be taken as input from user:-\n",
    "#Operation console should show below:-\n",
    "#     Please select any one operation from below:-\n",
    "#         * To add enter 1\n",
    "#         * to subtract enter 2\n",
    "#         * To multiply enter 3\n",
    "#         * To divide enter 4\n",
    "#         * To divide and find quotient enter 5\n",
    "#         * To divide and find remainder enter 6\n",
    "#         * To divide and find num1 to the power of num2 enter 7\n",
    "#         * To Come out of the program enter 8\n",
    "a = eval(input(\"Enter any number \"))\n",
    "b = eval(input(\"Enter another number \"))\n",
    "op = eval(input(\"Select any operation \"))  \n",
    "if(op==1):\n",
    "    print(a+b)\n",
    "elif(op==2):\n",
    "    print(a-b)\n",
    "elif(op==3):\n",
    "    print(a*b)\n",
    "elif(op==4):\n",
    "    print(a/b)\n",
    "elif(op==5):\n",
    "    print(a//b)\n",
    "elif(op==6):\n",
    "    print(a%b)\n",
    "elif(op==7):\n",
    "    print(a**b)\n",
    "elif(op==8):\n",
    "    print(\"Program exits\")\n",
    "    \n",
    "    "
   ]
  },
  {
   "cell_type": "code",
   "execution_count": 32,
   "id": "02eae6ea",
   "metadata": {},
   "outputs": [
    {
     "name": "stdout",
     "output_type": "stream",
     "text": [
      "Enter any year 1971\n",
      "Entered year is not a leap year\n"
     ]
    }
   ],
   "source": [
    "#W A P to check whether a year entered by user is an leap year or not?\n",
    "#Check with below input:-\n",
    "    #leap year:- 2012, 1968, 2004, 1200, 1600,2400\n",
    "    #Non-lear year:- 1971, 2006, 1700,1800,1900\n",
    "year = eval(input(\"Enter any year \"))\n",
    "if(year%4 == 0 and year%100!= 0 or year%400 == 0):\n",
    "    print(\"Entered year is a leap year\")\n",
    "else:\n",
    "    print(\"Entered year is not a leap year\")"
   ]
  },
  {
   "cell_type": "code",
   "execution_count": 22,
   "id": "70afe208",
   "metadata": {},
   "outputs": [
    {
     "name": "stdout",
     "output_type": "stream",
     "text": [
      "Enter any number 0\n",
      "Given number 0 is even number\n"
     ]
    }
   ],
   "source": [
    "#W A P which takes one number from the user and checks whether it is an even or odd number?, If it even then prints number is \n",
    "#even number else prints that number is odd number.\n",
    "a = eval(input(\"Enter any number \"))\n",
    "\n",
    "if(a%2==0 and a==0):\n",
    "    print(f\"Given number {a} is even number\".format(a))\n",
    "else:\n",
    "    print(f\"Given number {a} is odd number\".format(a))"
   ]
  },
  {
   "cell_type": "code",
   "execution_count": 49,
   "id": "c15b8715",
   "metadata": {},
   "outputs": [
    {
     "name": "stdout",
     "output_type": "stream",
     "text": [
      "Enter any number 3\n",
      "Enter any other number 2\n",
      "num1 is greater than num2\n"
     ]
    }
   ],
   "source": [
    "#W A P which takes two numbers from the user and prints below output:-\n",
    "#     1. num1 is greater than num2 if num1 is greater than num2\n",
    "#     2. num1 is smaller than num2 if num1 is smaller than num2\n",
    "#     3. num1 is equal to num2 if num1 and num2 are equal\n",
    "\n",
    "#Note:- 1. Do this problem using if - else  \n",
    "num1 = eval(input(\"Enter any number \"))\n",
    "num2 = eval(input(\"Enter any other number \"))\n",
    "if(num1!=num2):\n",
    "    if(num1>num2):\n",
    "        print(\"num1 is greater than num2\")\n",
    "    else:\n",
    "        print(\"num1 is smaller than num2\")\n",
    "else:\n",
    "    print(\"num1 is equall num2\")\n",
    "#       2. Do this using ternary operator\n",
    "\n",
    "print(\"num1 is greater than num2\") if(num1>num2) else print(\"num1 is smaller than num2\") if(num1!=num2) else print(\"num1 is equall num2\")"
   ]
  },
  {
   "cell_type": "code",
   "execution_count": 28,
   "id": "99810426",
   "metadata": {},
   "outputs": [
    {
     "name": "stdout",
     "output_type": "stream",
     "text": [
      "Enter any number 8\n",
      "Enter any number 56\n",
      "Enter any number 6\n",
      "num2 is greater than num1 and num3\n",
      "num2 is greater than num1 and num3\n"
     ]
    }
   ],
   "source": [
    "#W A P which takes three numbers from the user and prints below output:-\n",
    "#     1. num1 is greater than num2 and num3 if num1 is greater than num2 and num3\n",
    "#     2. num2 is greater than num1 and num3 if num2 is greater than num1 and num3\n",
    "#     3. num3 is greater than num1 and num2 if num3 is greater than num1 and num2\n",
    "\n",
    "#Note:- 1. Do this problem using if - elif - else \n",
    "#       2. Do this using ternary operator\n",
    "\n",
    "# a = a if a>b else b\n",
    "\n",
    "num1 = eval(input(\"Enter any number \"))\n",
    "num2 = eval(input(\"Enter any number \"))\n",
    "num3 = eval(input(\"Enter any number \"))\n",
    "if(num1>num2 and num1>num3):\n",
    "    print(\"num1 is greater than num2 and num3\")\n",
    "elif(num2>num1 and num2>num3):\n",
    "    print(\"num2 is greater than num1 and num3\")\n",
    "elif(num3>num1 and num3>num2):\n",
    "    print(\"num3 is greater than num1 and num2\")\n",
    "else:\n",
    "    print(\"conditions doesn't satisfy\")\n",
    "\n",
    "\n",
    "#       2. Do this using ternary operator\n",
    "print(\"num1 is greater than num2 and num3\") if(num1>num2 and num1>num3) else (print(\"num2 is greater than num1 and num3\") if(num2>num1 and num2>num3) else (print(\"num3 is greater than num1 and num2\") if(num3>num1 and num3>num2) else print(\"conditions doesn't satisfy\")))\n"
   ]
  },
  {
   "cell_type": "code",
   "execution_count": 24,
   "id": "672eb9d0",
   "metadata": {},
   "outputs": [
    {
     "name": "stdout",
     "output_type": "stream",
     "text": [
      "length of given string is = 55\n"
     ]
    }
   ],
   "source": [
    "#Write a Python program to find the length of the my_str using loop:-\n",
    "\n",
    "#Input:- 'Write a Python program to find the length of the my_str'\n",
    "#Output:- 55\n",
    "my_str = 'Write a Python program to find the length of the my_str'\n",
    "count = 0\n",
    "for i in my_str:\n",
    "    count = count+1\n",
    "   \n",
    "print(f\"length of given string is = {count}\".format(count))\n",
    "    "
   ]
  },
  {
   "cell_type": "code",
   "execution_count": 69,
   "id": "10432282",
   "metadata": {},
   "outputs": [
    {
     "name": "stdout",
     "output_type": "stream",
     "text": [
      "Total number of times letter 'p' appeared = 9\n"
     ]
    }
   ],
   "source": [
    "#Write a Python program to find the total number of times letter 'p' is appeared in the below string using loop:-\n",
    "    \n",
    "#Input:- 'peter piper picked a peck of pickled peppers.\\n'\n",
    "#Output:- 9\n",
    "str = 'peter piper picked a peck of pickled peppers.\\n'\n",
    "count =0\n",
    "for i in str:\n",
    "    if(i=='p'):\n",
    "        count = count+1\n",
    "print(f\"Total number of times letter 'p' appeared = {count}\")"
   ]
  },
  {
   "cell_type": "code",
   "execution_count": 70,
   "id": "5549b66e",
   "metadata": {},
   "outputs": [
    {
     "name": "stdout",
     "output_type": "stream",
     "text": [
      "0\n",
      "6\n",
      "8\n",
      "12\n",
      "21\n",
      "29\n",
      "37\n",
      "39\n",
      "40\n"
     ]
    }
   ],
   "source": [
    "#Write a Python Program, to print all the indexes of all occurences of letter 'p' appeared in the string using loop:-\n",
    "    \n",
    "#Input:- 'peter piper picked a peck of pickled peppers.'\n",
    "#Output:- \n",
    "# 0\n",
    "# 6\n",
    "# 8\n",
    "# 12\n",
    "# 21\n",
    "# 29\n",
    "# 37\n",
    "# 39\n",
    "# 40\n",
    "str = 'peter piper picked a peck of pickled peppers.'\n",
    "count = 0\n",
    "for i in str:\n",
    "    if(i=='p'):\n",
    "        print(count)\n",
    "    count = count+1\n",
    "        "
   ]
  },
  {
   "cell_type": "code",
   "execution_count": 81,
   "id": "63cc5c04",
   "metadata": {},
   "outputs": [
    {
     "name": "stdout",
     "output_type": "stream",
     "text": [
      "['peter', 'piper', 'picked', 'a', 'peck', 'of', 'pickled', 'peppers.']\n"
     ]
    }
   ],
   "source": [
    "#Write a python program to find below output using loop:-\n",
    "\n",
    "#Input:- 'peter piper picked a peck of pickled peppers.'\n",
    "#Output:- ['peter', 'piper', 'picked', 'a', 'peck', 'of', 'pickled', 'peppers']\n",
    "str = 'peter piper picked a peck of pickled peppers.'\n",
    "l = []\n",
    "#print(str.split(' '))\n",
    "for i in str.split(' '):\n",
    "    l.append(i)\n",
    "print(l)"
   ]
  },
  {
   "cell_type": "code",
   "execution_count": 94,
   "id": "b101e5a3",
   "metadata": {},
   "outputs": [
    {
     "name": "stdout",
     "output_type": "stream",
     "text": [
      "  peppers pickled of peck a picked piper peter\n"
     ]
    }
   ],
   "source": [
    "#Write a python program to find below output using loop:-\n",
    "\n",
    "#Input:- 'peter piper picked a peck of pickled peppers.'\n",
    "#Output:- 'peppers pickled of peck a picked piper peter'\n",
    "str = 'peter piper picked a peck of pickled peppers.'\n",
    "str1 =' '\n",
    "l1 = str.split(' ')\n",
    "for i in l1[::-1]:\n",
    "    str1 = str1.strip('.')+\" \"+i\n",
    "print(str1)"
   ]
  },
  {
   "cell_type": "code",
   "execution_count": 96,
   "id": "437ba95f",
   "metadata": {},
   "outputs": [
    {
     "name": "stdout",
     "output_type": "stream",
     "text": [
      " .sreppep delkcip fo kcep a dekcip repip retep\n"
     ]
    }
   ],
   "source": [
    "#Write a python program to find below output using loop:-\n",
    "\n",
    "#Input:- 'peter piper picked a peck of pickled peppers.'\n",
    "#Output:- '.sreppep delkcip fo kcep a dekcip repip retep'\n",
    "str = 'peter piper picked a peck of pickled peppers.'\n",
    "str1 =' '\n",
    "for i in str[::-1]:\n",
    "    str1 = str1+i\n",
    "print(str1)"
   ]
  },
  {
   "cell_type": "code",
   "execution_count": 101,
   "id": "f525ac0b",
   "metadata": {},
   "outputs": [
    {
     "name": "stdout",
     "output_type": "stream",
     "text": [
      " retep repip dekcip a kcep fo delkcip sreppep\n"
     ]
    }
   ],
   "source": [
    "#Write a python program to find below output using loop:-\n",
    "\n",
    "#Input:- 'peter piper picked a peck of pickled peppers.'\n",
    "#Output:- 'retep repip dekcip a kcep fo delkcip sreppep'\n",
    "str = 'peter piper picked a peck of pickled peppers.'\n",
    "l1 = str.split(\" \")\n",
    "str1 = ''\n",
    "for i in l1:\n",
    "    j = i.strip('.')\n",
    "    str1 = str1+\" \"+j[::-1]\n",
    "print(str1)\n",
    "    "
   ]
  },
  {
   "cell_type": "code",
   "execution_count": 11,
   "id": "72b87b31",
   "metadata": {},
   "outputs": [
    {
     "name": "stdout",
     "output_type": "stream",
     "text": [
      " Peter Piper Picked A Peck Of Pickled Peppers.\n"
     ]
    }
   ],
   "source": [
    "#Write a python program to find below output using loop:-\n",
    "\n",
    "#Input:- 'peter piper picked a peck of pickled peppers.'\n",
    "#Output:- 'Peter Piper Picked A Peck Of Pickled Peppers'\n",
    "str = 'peter piper picked a peck of pickled peppers.'\n",
    "l = str.split(' ')\n",
    "str1 = ''\n",
    "for i in l:\n",
    "    str1 = str1+\" \"+i.title()\n",
    "print(str1)"
   ]
  },
  {
   "cell_type": "code",
   "execution_count": 105,
   "id": "9126eb9b",
   "metadata": {},
   "outputs": [
    {
     "name": "stdout",
     "output_type": "stream",
     "text": [
      "Peter piper picked a peck of pickled peppers\n"
     ]
    }
   ],
   "source": [
    "#Write a python program to find below output using loop:-\n",
    "\n",
    "#Input:- 'Peter Piper Picked A Peck Of Pickled Peppers.'\n",
    "#Output:- 'Peter piper picked a peck of pickled peppers'\n",
    "str = 'Peter Piper Picked A Peck Of Pickled Peppers.'\n",
    "str2 = ''\n",
    "for i in str:\n",
    "    if(str[0]):\n",
    "        str2 = str2+i.lower()\n",
    "    \n",
    "print(str2.capitalize().strip('.'))"
   ]
  },
  {
   "cell_type": "code",
   "execution_count": 50,
   "id": "d77013ad",
   "metadata": {},
   "outputs": [
    {
     "name": "stdout",
     "output_type": "stream",
     "text": [
      "29\n"
     ]
    }
   ],
   "source": [
    "#Write a python program to implement index method using loop. If sub_str is found in my_str then it will print the index\n",
    "# of first occurrence of first character of matching string in my_str:-\n",
    "\n",
    "#Input:- my_str = 'Peter Piper Picked A Peck Of Pickled Peppers.', sub_str = 'Pickl'\n",
    "#Output:- 29\n",
    "my_str = 'Peter Piper Picked A Peck Of Pickled Peppers.'\n",
    "sub_str = 'Pickl'\n",
    "#l = my_str.split(' ')\n",
    "count = 0\n",
    "k=0\n",
    "for i in my_str:\n",
    "    for j in sub_str:\n",
    "        if(i.startswith('P') and i==j):\n",
    "            k = k+1\n",
    "            if(k==5):\n",
    "                print(count)    \n",
    "        \n",
    "    count = count+1  \n",
    "        "
   ]
  },
  {
   "cell_type": "code",
   "execution_count": 5,
   "id": "7490953d",
   "metadata": {},
   "outputs": [
    {
     "name": "stdout",
     "output_type": "stream",
     "text": [
      " Peter Piper Picked A Pack Of Pickled Peppers.\n"
     ]
    }
   ],
   "source": [
    "#Write a python program to implement replace method using loop. If sub_str is found in my_str then it will replace the first \n",
    "#occurrence of sub_str with new_str else it will will print sub_str not found:-\n",
    "\n",
    "#Input:- my_str = 'Peter Piper Picked A Peck Of Pickled Peppers.', sub_str = 'Peck', new_str = 'Pack'\n",
    "#Output:- 'Peter Piper Picked A Pack Of Pickled Peppers.'\n",
    "my_str = 'Peter Piper Picked A Peck Of Pickled Peppers.'\n",
    "sub_str = 'Peck'\n",
    "new_str = 'Pack'\n",
    "l = my_str.split(' ')\n",
    "my_str2 =''\n",
    "for i in l:\n",
    "    if(i==sub_str):\n",
    "        i= new_str\n",
    "        my_str2 = my_str2+\" \"+i\n",
    "    else:\n",
    "        my_str2 = my_str2+\" \"+i\n",
    "print(my_str2)"
   ]
  },
  {
   "cell_type": "code",
   "execution_count": 16,
   "id": "9844f122",
   "metadata": {},
   "outputs": [
    {
     "name": "stdout",
     "output_type": "stream",
     "text": [
      "*********************Peck********************\n"
     ]
    }
   ],
   "source": [
    "#Write a python program to find below output (implements rjust and ljust) using loop:-\n",
    "\n",
    "#Input:- 'Peter Piper Picked A Peck Of Pickled Peppers.', sub_str = 'Peck', \n",
    "#Output:- '*********************Peck********************'\n",
    "my_str = 'Peter Piper Picked A Peck Of Pickled Peppers.'\n",
    "sub_str = 'Peck'\n",
    "l=my_str.split()\n",
    "my_str2=''\n",
    "for i in l:\n",
    "        if (i!= sub_str):\n",
    "            my_str2 = my_str2+(len(i)+1)*\"*\"\n",
    "        else:\n",
    "            my_str2 = my_str2+sub_str    \n",
    "print(my_str2)"
   ]
  },
  {
   "cell_type": "code",
   "execution_count": 30,
   "id": "bfcf093d",
   "metadata": {},
   "outputs": [
    {
     "name": "stdout",
     "output_type": "stream",
     "text": [
      "['This', 'is', 'Python class']\n"
     ]
    }
   ],
   "source": [
    "#Write a python program to find below output using loop:-\n",
    "\n",
    "#Input:- 'This is Python class', sep = ' is', \n",
    "#Output:- ['This', 'is', 'Python class']\n",
    "str = 'This is Python class'\n",
    "sep = ' is'\n",
    "l = []\n",
    "for i in str.split(sep):\n",
    "    l.append(i.strip())\n",
    "l.insert(1,sep.strip())   \n",
    "print(l)"
   ]
  }
 ],
 "metadata": {
  "kernelspec": {
   "display_name": "Python 3 (ipykernel)",
   "language": "python",
   "name": "python3"
  },
  "language_info": {
   "codemirror_mode": {
    "name": "ipython",
    "version": 3
   },
   "file_extension": ".py",
   "mimetype": "text/x-python",
   "name": "python",
   "nbconvert_exporter": "python",
   "pygments_lexer": "ipython3",
   "version": "3.11.4"
  }
 },
 "nbformat": 4,
 "nbformat_minor": 5
}
